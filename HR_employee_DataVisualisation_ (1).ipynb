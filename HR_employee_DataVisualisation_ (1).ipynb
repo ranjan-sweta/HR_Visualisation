{
  "nbformat": 4,
  "nbformat_minor": 0,
  "metadata": {
    "colab": {
      "provenance": []
    },
    "kernelspec": {
      "name": "python3",
      "display_name": "Python 3"
    },
    "language_info": {
      "name": "python"
    }
  },
  "cells": [
    {
      "cell_type": "markdown",
      "source": [
        "**Task 1 - Data Cleaning**\n",
        "\n",
        "**Task 2 - Visualistion**"
      ],
      "metadata": {
        "id": "JEZtP9_4cvHK"
      }
    },
    {
      "cell_type": "code",
      "source": [
        "# importing libraries\n",
        "import pandas as pd\n",
        "import numpy as np\n",
        "\n",
        "import plotly.express as px\n",
        "import matplotlib.pyplot as plt\n",
        "%matplotlib inline\n",
        "import seaborn as sns\n"
      ],
      "metadata": {
        "id": "811lOrKPMqnX"
      },
      "execution_count": 35,
      "outputs": []
    },
    {
      "cell_type": "code",
      "source": [
        "#importing dataset\n",
        "hr_emp = pd.read_csv('/content/HRDataset_v14_intership_2nd_file.csv')"
      ],
      "metadata": {
        "id": "YhIkM6WHMqp9"
      },
      "execution_count": null,
      "outputs": []
    },
    {
      "cell_type": "code",
      "source": [
        "#cheching data shape\n",
        "hr_emp.shape"
      ],
      "metadata": {
        "colab": {
          "base_uri": "https://localhost:8080/"
        },
        "id": "IkvhyECtMqrz",
        "outputId": "0de01ab3-f08f-4fe5-ec15-cb1e40ea0f4a"
      },
      "execution_count": null,
      "outputs": [
        {
          "output_type": "execute_result",
          "data": {
            "text/plain": [
              "(311, 36)"
            ]
          },
          "metadata": {},
          "execution_count": 3
        }
      ]
    },
    {
      "cell_type": "code",
      "source": [
        "#examing head of DataFrame\n",
        "hr_emp.head()"
      ],
      "metadata": {
        "colab": {
          "base_uri": "https://localhost:8080/",
          "height": 369
        },
        "id": "mOk1GwRFMqxV",
        "outputId": "373d6c63-7d4b-44a1-955a-d1d76b6fcef1"
      },
      "execution_count": null,
      "outputs": [
        {
          "output_type": "execute_result",
          "data": {
            "text/plain": [
              "              Employee_Name  EmpID  MarriedID  MaritalStatusID  GenderID  \\\n",
              "0       Adinolfi, Wilson  K  10026          0                0         1   \n",
              "1  Ait Sidi, Karthikeyan     10084          1                1         1   \n",
              "2         Akinkuolie, Sarah  10196          1                1         0   \n",
              "3              Alagbe,Trina  10088          1                1         0   \n",
              "4          Anderson, Carol   10069          0                2         0   \n",
              "\n",
              "   EmpStatusID  DeptID  PerfScoreID  FromDiversityJobFairID  Salary  ...  \\\n",
              "0            1       5            4                       0   62506  ...   \n",
              "1            5       3            3                       0  104437  ...   \n",
              "2            5       5            3                       0   64955  ...   \n",
              "3            1       5            3                       0   64991  ...   \n",
              "4            5       5            3                       0   50825  ...   \n",
              "\n",
              "      ManagerName  ManagerID RecruitmentSource PerformanceScore  \\\n",
              "0  Michael Albert       22.0          LinkedIn          Exceeds   \n",
              "1      Simon Roup        4.0            Indeed      Fully Meets   \n",
              "2  Kissy Sullivan       20.0          LinkedIn      Fully Meets   \n",
              "3    Elijiah Gray       16.0            Indeed      Fully Meets   \n",
              "4  Webster Butler       39.0     Google Search      Fully Meets   \n",
              "\n",
              "   EngagementSurvey EmpSatisfaction SpecialProjectsCount  \\\n",
              "0              4.60               5                    0   \n",
              "1              4.96               3                    6   \n",
              "2              3.02               3                    0   \n",
              "3              4.84               5                    0   \n",
              "4              5.00               4                    0   \n",
              "\n",
              "  LastPerformanceReview_Date DaysLateLast30 Absences  \n",
              "0                  1/17/2019              0        1  \n",
              "1                  2/24/2016              0       17  \n",
              "2                  5/15/2012              0        3  \n",
              "3                 01-03-2019              0       15  \n",
              "4                 02-01-2016              0        2  \n",
              "\n",
              "[5 rows x 36 columns]"
            ],
            "text/html": [
              "\n",
              "  <div id=\"df-4d5e1f97-8f03-490d-9d75-765b9d94e0de\">\n",
              "    <div class=\"colab-df-container\">\n",
              "      <div>\n",
              "<style scoped>\n",
              "    .dataframe tbody tr th:only-of-type {\n",
              "        vertical-align: middle;\n",
              "    }\n",
              "\n",
              "    .dataframe tbody tr th {\n",
              "        vertical-align: top;\n",
              "    }\n",
              "\n",
              "    .dataframe thead th {\n",
              "        text-align: right;\n",
              "    }\n",
              "</style>\n",
              "<table border=\"1\" class=\"dataframe\">\n",
              "  <thead>\n",
              "    <tr style=\"text-align: right;\">\n",
              "      <th></th>\n",
              "      <th>Employee_Name</th>\n",
              "      <th>EmpID</th>\n",
              "      <th>MarriedID</th>\n",
              "      <th>MaritalStatusID</th>\n",
              "      <th>GenderID</th>\n",
              "      <th>EmpStatusID</th>\n",
              "      <th>DeptID</th>\n",
              "      <th>PerfScoreID</th>\n",
              "      <th>FromDiversityJobFairID</th>\n",
              "      <th>Salary</th>\n",
              "      <th>...</th>\n",
              "      <th>ManagerName</th>\n",
              "      <th>ManagerID</th>\n",
              "      <th>RecruitmentSource</th>\n",
              "      <th>PerformanceScore</th>\n",
              "      <th>EngagementSurvey</th>\n",
              "      <th>EmpSatisfaction</th>\n",
              "      <th>SpecialProjectsCount</th>\n",
              "      <th>LastPerformanceReview_Date</th>\n",
              "      <th>DaysLateLast30</th>\n",
              "      <th>Absences</th>\n",
              "    </tr>\n",
              "  </thead>\n",
              "  <tbody>\n",
              "    <tr>\n",
              "      <th>0</th>\n",
              "      <td>Adinolfi, Wilson  K</td>\n",
              "      <td>10026</td>\n",
              "      <td>0</td>\n",
              "      <td>0</td>\n",
              "      <td>1</td>\n",
              "      <td>1</td>\n",
              "      <td>5</td>\n",
              "      <td>4</td>\n",
              "      <td>0</td>\n",
              "      <td>62506</td>\n",
              "      <td>...</td>\n",
              "      <td>Michael Albert</td>\n",
              "      <td>22.0</td>\n",
              "      <td>LinkedIn</td>\n",
              "      <td>Exceeds</td>\n",
              "      <td>4.60</td>\n",
              "      <td>5</td>\n",
              "      <td>0</td>\n",
              "      <td>1/17/2019</td>\n",
              "      <td>0</td>\n",
              "      <td>1</td>\n",
              "    </tr>\n",
              "    <tr>\n",
              "      <th>1</th>\n",
              "      <td>Ait Sidi, Karthikeyan</td>\n",
              "      <td>10084</td>\n",
              "      <td>1</td>\n",
              "      <td>1</td>\n",
              "      <td>1</td>\n",
              "      <td>5</td>\n",
              "      <td>3</td>\n",
              "      <td>3</td>\n",
              "      <td>0</td>\n",
              "      <td>104437</td>\n",
              "      <td>...</td>\n",
              "      <td>Simon Roup</td>\n",
              "      <td>4.0</td>\n",
              "      <td>Indeed</td>\n",
              "      <td>Fully Meets</td>\n",
              "      <td>4.96</td>\n",
              "      <td>3</td>\n",
              "      <td>6</td>\n",
              "      <td>2/24/2016</td>\n",
              "      <td>0</td>\n",
              "      <td>17</td>\n",
              "    </tr>\n",
              "    <tr>\n",
              "      <th>2</th>\n",
              "      <td>Akinkuolie, Sarah</td>\n",
              "      <td>10196</td>\n",
              "      <td>1</td>\n",
              "      <td>1</td>\n",
              "      <td>0</td>\n",
              "      <td>5</td>\n",
              "      <td>5</td>\n",
              "      <td>3</td>\n",
              "      <td>0</td>\n",
              "      <td>64955</td>\n",
              "      <td>...</td>\n",
              "      <td>Kissy Sullivan</td>\n",
              "      <td>20.0</td>\n",
              "      <td>LinkedIn</td>\n",
              "      <td>Fully Meets</td>\n",
              "      <td>3.02</td>\n",
              "      <td>3</td>\n",
              "      <td>0</td>\n",
              "      <td>5/15/2012</td>\n",
              "      <td>0</td>\n",
              "      <td>3</td>\n",
              "    </tr>\n",
              "    <tr>\n",
              "      <th>3</th>\n",
              "      <td>Alagbe,Trina</td>\n",
              "      <td>10088</td>\n",
              "      <td>1</td>\n",
              "      <td>1</td>\n",
              "      <td>0</td>\n",
              "      <td>1</td>\n",
              "      <td>5</td>\n",
              "      <td>3</td>\n",
              "      <td>0</td>\n",
              "      <td>64991</td>\n",
              "      <td>...</td>\n",
              "      <td>Elijiah Gray</td>\n",
              "      <td>16.0</td>\n",
              "      <td>Indeed</td>\n",
              "      <td>Fully Meets</td>\n",
              "      <td>4.84</td>\n",
              "      <td>5</td>\n",
              "      <td>0</td>\n",
              "      <td>01-03-2019</td>\n",
              "      <td>0</td>\n",
              "      <td>15</td>\n",
              "    </tr>\n",
              "    <tr>\n",
              "      <th>4</th>\n",
              "      <td>Anderson, Carol</td>\n",
              "      <td>10069</td>\n",
              "      <td>0</td>\n",
              "      <td>2</td>\n",
              "      <td>0</td>\n",
              "      <td>5</td>\n",
              "      <td>5</td>\n",
              "      <td>3</td>\n",
              "      <td>0</td>\n",
              "      <td>50825</td>\n",
              "      <td>...</td>\n",
              "      <td>Webster Butler</td>\n",
              "      <td>39.0</td>\n",
              "      <td>Google Search</td>\n",
              "      <td>Fully Meets</td>\n",
              "      <td>5.00</td>\n",
              "      <td>4</td>\n",
              "      <td>0</td>\n",
              "      <td>02-01-2016</td>\n",
              "      <td>0</td>\n",
              "      <td>2</td>\n",
              "    </tr>\n",
              "  </tbody>\n",
              "</table>\n",
              "<p>5 rows × 36 columns</p>\n",
              "</div>\n",
              "      <button class=\"colab-df-convert\" onclick=\"convertToInteractive('df-4d5e1f97-8f03-490d-9d75-765b9d94e0de')\"\n",
              "              title=\"Convert this dataframe to an interactive table.\"\n",
              "              style=\"display:none;\">\n",
              "        \n",
              "  <svg xmlns=\"http://www.w3.org/2000/svg\" height=\"24px\"viewBox=\"0 0 24 24\"\n",
              "       width=\"24px\">\n",
              "    <path d=\"M0 0h24v24H0V0z\" fill=\"none\"/>\n",
              "    <path d=\"M18.56 5.44l.94 2.06.94-2.06 2.06-.94-2.06-.94-.94-2.06-.94 2.06-2.06.94zm-11 1L8.5 8.5l.94-2.06 2.06-.94-2.06-.94L8.5 2.5l-.94 2.06-2.06.94zm10 10l.94 2.06.94-2.06 2.06-.94-2.06-.94-.94-2.06-.94 2.06-2.06.94z\"/><path d=\"M17.41 7.96l-1.37-1.37c-.4-.4-.92-.59-1.43-.59-.52 0-1.04.2-1.43.59L10.3 9.45l-7.72 7.72c-.78.78-.78 2.05 0 2.83L4 21.41c.39.39.9.59 1.41.59.51 0 1.02-.2 1.41-.59l7.78-7.78 2.81-2.81c.8-.78.8-2.07 0-2.86zM5.41 20L4 18.59l7.72-7.72 1.47 1.35L5.41 20z\"/>\n",
              "  </svg>\n",
              "      </button>\n",
              "      \n",
              "  <style>\n",
              "    .colab-df-container {\n",
              "      display:flex;\n",
              "      flex-wrap:wrap;\n",
              "      gap: 12px;\n",
              "    }\n",
              "\n",
              "    .colab-df-convert {\n",
              "      background-color: #E8F0FE;\n",
              "      border: none;\n",
              "      border-radius: 50%;\n",
              "      cursor: pointer;\n",
              "      display: none;\n",
              "      fill: #1967D2;\n",
              "      height: 32px;\n",
              "      padding: 0 0 0 0;\n",
              "      width: 32px;\n",
              "    }\n",
              "\n",
              "    .colab-df-convert:hover {\n",
              "      background-color: #E2EBFA;\n",
              "      box-shadow: 0px 1px 2px rgba(60, 64, 67, 0.3), 0px 1px 3px 1px rgba(60, 64, 67, 0.15);\n",
              "      fill: #174EA6;\n",
              "    }\n",
              "\n",
              "    [theme=dark] .colab-df-convert {\n",
              "      background-color: #3B4455;\n",
              "      fill: #D2E3FC;\n",
              "    }\n",
              "\n",
              "    [theme=dark] .colab-df-convert:hover {\n",
              "      background-color: #434B5C;\n",
              "      box-shadow: 0px 1px 3px 1px rgba(0, 0, 0, 0.15);\n",
              "      filter: drop-shadow(0px 1px 2px rgba(0, 0, 0, 0.3));\n",
              "      fill: #FFFFFF;\n",
              "    }\n",
              "  </style>\n",
              "\n",
              "      <script>\n",
              "        const buttonEl =\n",
              "          document.querySelector('#df-4d5e1f97-8f03-490d-9d75-765b9d94e0de button.colab-df-convert');\n",
              "        buttonEl.style.display =\n",
              "          google.colab.kernel.accessAllowed ? 'block' : 'none';\n",
              "\n",
              "        async function convertToInteractive(key) {\n",
              "          const element = document.querySelector('#df-4d5e1f97-8f03-490d-9d75-765b9d94e0de');\n",
              "          const dataTable =\n",
              "            await google.colab.kernel.invokeFunction('convertToInteractive',\n",
              "                                                     [key], {});\n",
              "          if (!dataTable) return;\n",
              "\n",
              "          const docLinkHtml = 'Like what you see? Visit the ' +\n",
              "            '<a target=\"_blank\" href=https://colab.research.google.com/notebooks/data_table.ipynb>data table notebook</a>'\n",
              "            + ' to learn more about interactive tables.';\n",
              "          element.innerHTML = '';\n",
              "          dataTable['output_type'] = 'display_data';\n",
              "          await google.colab.output.renderOutput(dataTable, element);\n",
              "          const docLink = document.createElement('div');\n",
              "          docLink.innerHTML = docLinkHtml;\n",
              "          element.appendChild(docLink);\n",
              "        }\n",
              "      </script>\n",
              "    </div>\n",
              "  </div>\n",
              "  "
            ]
          },
          "metadata": {},
          "execution_count": 4
        }
      ]
    },
    {
      "cell_type": "code",
      "source": [
        "hr_emp.sample(5)"
      ],
      "metadata": {
        "colab": {
          "base_uri": "https://localhost:8080/",
          "height": 317
        },
        "id": "8pa69XweOX7a",
        "outputId": "8e206252-ce9e-4ae2-bb81-8e60f2bd3ba6"
      },
      "execution_count": null,
      "outputs": [
        {
          "output_type": "execute_result",
          "data": {
            "text/plain": [
              "         Employee_Name  EmpID  MarriedID  MaritalStatusID  GenderID  \\\n",
              "238        Roby, Lori   10162          1                1         0   \n",
              "277    Tejeda, Lenora   10146          1                1         0   \n",
              "191    Monterro, Luisa  10025          0                0         0   \n",
              "210      Ozark, Travis  10041          0                0         1   \n",
              "40   Carter, Michelle   10040          0                0         0   \n",
              "\n",
              "     EmpStatusID  DeptID  PerfScoreID  FromDiversityJobFairID  Salary  ...  \\\n",
              "238            1       3            3                       0   89883  ...   \n",
              "277            5       5            3                       0   72202  ...   \n",
              "191            1       5            4                       0   72460  ...   \n",
              "210            1       6            3                       0   68829  ...   \n",
              "40             1       6            3                       0   71860  ...   \n",
              "\n",
              "        ManagerName  ManagerID  RecruitmentSource PerformanceScore  \\\n",
              "238      Simon Roup        4.0  Employee Referral      Fully Meets   \n",
              "277    Elijiah Gray       16.0      Google Search      Fully Meets   \n",
              "191  Kissy Sullivan       20.0             Indeed          Exceeds   \n",
              "210      John Smith       17.0            Website      Fully Meets   \n",
              "40       John Smith       17.0             Indeed      Fully Meets   \n",
              "\n",
              "     EngagementSurvey EmpSatisfaction SpecialProjectsCount  \\\n",
              "238              3.69               5                    6   \n",
              "277              3.93               3                    0   \n",
              "191              4.70               3                    0   \n",
              "210              5.00               5                    0   \n",
              "40               5.00               5                    0   \n",
              "\n",
              "    LastPerformanceReview_Date DaysLateLast30 Absences  \n",
              "238                  2/14/2019              0       15  \n",
              "277                  4/18/2017              0        3  \n",
              "191                  1/14/2019              0        1  \n",
              "210                  1/14/2019              0       18  \n",
              "40                   1/21/2019              0        7  \n",
              "\n",
              "[5 rows x 36 columns]"
            ],
            "text/html": [
              "\n",
              "  <div id=\"df-b25f6047-d409-41c0-93fc-6ddefafe1197\">\n",
              "    <div class=\"colab-df-container\">\n",
              "      <div>\n",
              "<style scoped>\n",
              "    .dataframe tbody tr th:only-of-type {\n",
              "        vertical-align: middle;\n",
              "    }\n",
              "\n",
              "    .dataframe tbody tr th {\n",
              "        vertical-align: top;\n",
              "    }\n",
              "\n",
              "    .dataframe thead th {\n",
              "        text-align: right;\n",
              "    }\n",
              "</style>\n",
              "<table border=\"1\" class=\"dataframe\">\n",
              "  <thead>\n",
              "    <tr style=\"text-align: right;\">\n",
              "      <th></th>\n",
              "      <th>Employee_Name</th>\n",
              "      <th>EmpID</th>\n",
              "      <th>MarriedID</th>\n",
              "      <th>MaritalStatusID</th>\n",
              "      <th>GenderID</th>\n",
              "      <th>EmpStatusID</th>\n",
              "      <th>DeptID</th>\n",
              "      <th>PerfScoreID</th>\n",
              "      <th>FromDiversityJobFairID</th>\n",
              "      <th>Salary</th>\n",
              "      <th>...</th>\n",
              "      <th>ManagerName</th>\n",
              "      <th>ManagerID</th>\n",
              "      <th>RecruitmentSource</th>\n",
              "      <th>PerformanceScore</th>\n",
              "      <th>EngagementSurvey</th>\n",
              "      <th>EmpSatisfaction</th>\n",
              "      <th>SpecialProjectsCount</th>\n",
              "      <th>LastPerformanceReview_Date</th>\n",
              "      <th>DaysLateLast30</th>\n",
              "      <th>Absences</th>\n",
              "    </tr>\n",
              "  </thead>\n",
              "  <tbody>\n",
              "    <tr>\n",
              "      <th>238</th>\n",
              "      <td>Roby, Lori</td>\n",
              "      <td>10162</td>\n",
              "      <td>1</td>\n",
              "      <td>1</td>\n",
              "      <td>0</td>\n",
              "      <td>1</td>\n",
              "      <td>3</td>\n",
              "      <td>3</td>\n",
              "      <td>0</td>\n",
              "      <td>89883</td>\n",
              "      <td>...</td>\n",
              "      <td>Simon Roup</td>\n",
              "      <td>4.0</td>\n",
              "      <td>Employee Referral</td>\n",
              "      <td>Fully Meets</td>\n",
              "      <td>3.69</td>\n",
              "      <td>5</td>\n",
              "      <td>6</td>\n",
              "      <td>2/14/2019</td>\n",
              "      <td>0</td>\n",
              "      <td>15</td>\n",
              "    </tr>\n",
              "    <tr>\n",
              "      <th>277</th>\n",
              "      <td>Tejeda, Lenora</td>\n",
              "      <td>10146</td>\n",
              "      <td>1</td>\n",
              "      <td>1</td>\n",
              "      <td>0</td>\n",
              "      <td>5</td>\n",
              "      <td>5</td>\n",
              "      <td>3</td>\n",
              "      <td>0</td>\n",
              "      <td>72202</td>\n",
              "      <td>...</td>\n",
              "      <td>Elijiah Gray</td>\n",
              "      <td>16.0</td>\n",
              "      <td>Google Search</td>\n",
              "      <td>Fully Meets</td>\n",
              "      <td>3.93</td>\n",
              "      <td>3</td>\n",
              "      <td>0</td>\n",
              "      <td>4/18/2017</td>\n",
              "      <td>0</td>\n",
              "      <td>3</td>\n",
              "    </tr>\n",
              "    <tr>\n",
              "      <th>191</th>\n",
              "      <td>Monterro, Luisa</td>\n",
              "      <td>10025</td>\n",
              "      <td>0</td>\n",
              "      <td>0</td>\n",
              "      <td>0</td>\n",
              "      <td>1</td>\n",
              "      <td>5</td>\n",
              "      <td>4</td>\n",
              "      <td>0</td>\n",
              "      <td>72460</td>\n",
              "      <td>...</td>\n",
              "      <td>Kissy Sullivan</td>\n",
              "      <td>20.0</td>\n",
              "      <td>Indeed</td>\n",
              "      <td>Exceeds</td>\n",
              "      <td>4.70</td>\n",
              "      <td>3</td>\n",
              "      <td>0</td>\n",
              "      <td>1/14/2019</td>\n",
              "      <td>0</td>\n",
              "      <td>1</td>\n",
              "    </tr>\n",
              "    <tr>\n",
              "      <th>210</th>\n",
              "      <td>Ozark, Travis</td>\n",
              "      <td>10041</td>\n",
              "      <td>0</td>\n",
              "      <td>0</td>\n",
              "      <td>1</td>\n",
              "      <td>1</td>\n",
              "      <td>6</td>\n",
              "      <td>3</td>\n",
              "      <td>0</td>\n",
              "      <td>68829</td>\n",
              "      <td>...</td>\n",
              "      <td>John Smith</td>\n",
              "      <td>17.0</td>\n",
              "      <td>Website</td>\n",
              "      <td>Fully Meets</td>\n",
              "      <td>5.00</td>\n",
              "      <td>5</td>\n",
              "      <td>0</td>\n",
              "      <td>1/14/2019</td>\n",
              "      <td>0</td>\n",
              "      <td>18</td>\n",
              "    </tr>\n",
              "    <tr>\n",
              "      <th>40</th>\n",
              "      <td>Carter, Michelle</td>\n",
              "      <td>10040</td>\n",
              "      <td>0</td>\n",
              "      <td>0</td>\n",
              "      <td>0</td>\n",
              "      <td>1</td>\n",
              "      <td>6</td>\n",
              "      <td>3</td>\n",
              "      <td>0</td>\n",
              "      <td>71860</td>\n",
              "      <td>...</td>\n",
              "      <td>John Smith</td>\n",
              "      <td>17.0</td>\n",
              "      <td>Indeed</td>\n",
              "      <td>Fully Meets</td>\n",
              "      <td>5.00</td>\n",
              "      <td>5</td>\n",
              "      <td>0</td>\n",
              "      <td>1/21/2019</td>\n",
              "      <td>0</td>\n",
              "      <td>7</td>\n",
              "    </tr>\n",
              "  </tbody>\n",
              "</table>\n",
              "<p>5 rows × 36 columns</p>\n",
              "</div>\n",
              "      <button class=\"colab-df-convert\" onclick=\"convertToInteractive('df-b25f6047-d409-41c0-93fc-6ddefafe1197')\"\n",
              "              title=\"Convert this dataframe to an interactive table.\"\n",
              "              style=\"display:none;\">\n",
              "        \n",
              "  <svg xmlns=\"http://www.w3.org/2000/svg\" height=\"24px\"viewBox=\"0 0 24 24\"\n",
              "       width=\"24px\">\n",
              "    <path d=\"M0 0h24v24H0V0z\" fill=\"none\"/>\n",
              "    <path d=\"M18.56 5.44l.94 2.06.94-2.06 2.06-.94-2.06-.94-.94-2.06-.94 2.06-2.06.94zm-11 1L8.5 8.5l.94-2.06 2.06-.94-2.06-.94L8.5 2.5l-.94 2.06-2.06.94zm10 10l.94 2.06.94-2.06 2.06-.94-2.06-.94-.94-2.06-.94 2.06-2.06.94z\"/><path d=\"M17.41 7.96l-1.37-1.37c-.4-.4-.92-.59-1.43-.59-.52 0-1.04.2-1.43.59L10.3 9.45l-7.72 7.72c-.78.78-.78 2.05 0 2.83L4 21.41c.39.39.9.59 1.41.59.51 0 1.02-.2 1.41-.59l7.78-7.78 2.81-2.81c.8-.78.8-2.07 0-2.86zM5.41 20L4 18.59l7.72-7.72 1.47 1.35L5.41 20z\"/>\n",
              "  </svg>\n",
              "      </button>\n",
              "      \n",
              "  <style>\n",
              "    .colab-df-container {\n",
              "      display:flex;\n",
              "      flex-wrap:wrap;\n",
              "      gap: 12px;\n",
              "    }\n",
              "\n",
              "    .colab-df-convert {\n",
              "      background-color: #E8F0FE;\n",
              "      border: none;\n",
              "      border-radius: 50%;\n",
              "      cursor: pointer;\n",
              "      display: none;\n",
              "      fill: #1967D2;\n",
              "      height: 32px;\n",
              "      padding: 0 0 0 0;\n",
              "      width: 32px;\n",
              "    }\n",
              "\n",
              "    .colab-df-convert:hover {\n",
              "      background-color: #E2EBFA;\n",
              "      box-shadow: 0px 1px 2px rgba(60, 64, 67, 0.3), 0px 1px 3px 1px rgba(60, 64, 67, 0.15);\n",
              "      fill: #174EA6;\n",
              "    }\n",
              "\n",
              "    [theme=dark] .colab-df-convert {\n",
              "      background-color: #3B4455;\n",
              "      fill: #D2E3FC;\n",
              "    }\n",
              "\n",
              "    [theme=dark] .colab-df-convert:hover {\n",
              "      background-color: #434B5C;\n",
              "      box-shadow: 0px 1px 3px 1px rgba(0, 0, 0, 0.15);\n",
              "      filter: drop-shadow(0px 1px 2px rgba(0, 0, 0, 0.3));\n",
              "      fill: #FFFFFF;\n",
              "    }\n",
              "  </style>\n",
              "\n",
              "      <script>\n",
              "        const buttonEl =\n",
              "          document.querySelector('#df-b25f6047-d409-41c0-93fc-6ddefafe1197 button.colab-df-convert');\n",
              "        buttonEl.style.display =\n",
              "          google.colab.kernel.accessAllowed ? 'block' : 'none';\n",
              "\n",
              "        async function convertToInteractive(key) {\n",
              "          const element = document.querySelector('#df-b25f6047-d409-41c0-93fc-6ddefafe1197');\n",
              "          const dataTable =\n",
              "            await google.colab.kernel.invokeFunction('convertToInteractive',\n",
              "                                                     [key], {});\n",
              "          if (!dataTable) return;\n",
              "\n",
              "          const docLinkHtml = 'Like what you see? Visit the ' +\n",
              "            '<a target=\"_blank\" href=https://colab.research.google.com/notebooks/data_table.ipynb>data table notebook</a>'\n",
              "            + ' to learn more about interactive tables.';\n",
              "          element.innerHTML = '';\n",
              "          dataTable['output_type'] = 'display_data';\n",
              "          await google.colab.output.renderOutput(dataTable, element);\n",
              "          const docLink = document.createElement('div');\n",
              "          docLink.innerHTML = docLinkHtml;\n",
              "          element.appendChild(docLink);\n",
              "        }\n",
              "      </script>\n",
              "    </div>\n",
              "  </div>\n",
              "  "
            ]
          },
          "metadata": {},
          "execution_count": 5
        }
      ]
    },
    {
      "cell_type": "code",
      "source": [
        "#cheching Non-Null count in DataFrame\n",
        "hr_emp.info()"
      ],
      "metadata": {
        "colab": {
          "base_uri": "https://localhost:8080/"
        },
        "id": "rYU5mpJqMq0J",
        "outputId": "4734bfa6-50c8-441f-e09d-8770cfa15766"
      },
      "execution_count": null,
      "outputs": [
        {
          "output_type": "stream",
          "name": "stdout",
          "text": [
            "<class 'pandas.core.frame.DataFrame'>\n",
            "RangeIndex: 311 entries, 0 to 310\n",
            "Data columns (total 36 columns):\n",
            " #   Column                      Non-Null Count  Dtype  \n",
            "---  ------                      --------------  -----  \n",
            " 0   Employee_Name               311 non-null    object \n",
            " 1   EmpID                       311 non-null    int64  \n",
            " 2   MarriedID                   311 non-null    int64  \n",
            " 3   MaritalStatusID             311 non-null    int64  \n",
            " 4   GenderID                    311 non-null    int64  \n",
            " 5   EmpStatusID                 311 non-null    int64  \n",
            " 6   DeptID                      311 non-null    int64  \n",
            " 7   PerfScoreID                 311 non-null    int64  \n",
            " 8   FromDiversityJobFairID      311 non-null    int64  \n",
            " 9   Salary                      311 non-null    int64  \n",
            " 10  Termd                       311 non-null    int64  \n",
            " 11  PositionID                  311 non-null    int64  \n",
            " 12  Position                    311 non-null    object \n",
            " 13  State                       311 non-null    object \n",
            " 14  Zip                         311 non-null    int64  \n",
            " 15  DOB                         311 non-null    object \n",
            " 16  Sex                         311 non-null    object \n",
            " 17  MaritalDesc                 311 non-null    object \n",
            " 18  CitizenDesc                 311 non-null    object \n",
            " 19  HispanicLatino              311 non-null    object \n",
            " 20  RaceDesc                    311 non-null    object \n",
            " 21  DateofHire                  311 non-null    object \n",
            " 22  DateofTermination           104 non-null    object \n",
            " 23  TermReason                  311 non-null    object \n",
            " 24  EmploymentStatus            311 non-null    object \n",
            " 25  Department                  311 non-null    object \n",
            " 26  ManagerName                 311 non-null    object \n",
            " 27  ManagerID                   303 non-null    float64\n",
            " 28  RecruitmentSource           311 non-null    object \n",
            " 29  PerformanceScore            311 non-null    object \n",
            " 30  EngagementSurvey            311 non-null    float64\n",
            " 31  EmpSatisfaction             311 non-null    int64  \n",
            " 32  SpecialProjectsCount        311 non-null    int64  \n",
            " 33  LastPerformanceReview_Date  311 non-null    object \n",
            " 34  DaysLateLast30              311 non-null    int64  \n",
            " 35  Absences                    311 non-null    int64  \n",
            "dtypes: float64(2), int64(16), object(18)\n",
            "memory usage: 87.6+ KB\n"
          ]
        }
      ]
    },
    {
      "cell_type": "code",
      "source": [
        "hr_emp.describe()"
      ],
      "metadata": {
        "colab": {
          "base_uri": "https://localhost:8080/",
          "height": 364
        },
        "id": "mGyywfFyMq3a",
        "outputId": "dd48e19c-f9c8-4c49-c7f8-d0cf8a83ffee"
      },
      "execution_count": null,
      "outputs": [
        {
          "output_type": "execute_result",
          "data": {
            "text/plain": [
              "              EmpID   MarriedID  MaritalStatusID    GenderID  EmpStatusID  \\\n",
              "count    311.000000  311.000000       311.000000  311.000000   311.000000   \n",
              "mean   10156.000000    0.398714         0.810289    0.434084     2.392283   \n",
              "std       89.922189    0.490423         0.943239    0.496435     1.794383   \n",
              "min    10001.000000    0.000000         0.000000    0.000000     1.000000   \n",
              "25%    10078.500000    0.000000         0.000000    0.000000     1.000000   \n",
              "50%    10156.000000    0.000000         1.000000    0.000000     1.000000   \n",
              "75%    10233.500000    1.000000         1.000000    1.000000     5.000000   \n",
              "max    10311.000000    1.000000         4.000000    1.000000     5.000000   \n",
              "\n",
              "           DeptID  PerfScoreID  FromDiversityJobFairID         Salary  \\\n",
              "count  311.000000   311.000000              311.000000     311.000000   \n",
              "mean     4.610932     2.977492                0.093248   69020.684887   \n",
              "std      1.083487     0.587072                0.291248   25156.636930   \n",
              "min      1.000000     1.000000                0.000000   45046.000000   \n",
              "25%      5.000000     3.000000                0.000000   55501.500000   \n",
              "50%      5.000000     3.000000                0.000000   62810.000000   \n",
              "75%      5.000000     3.000000                0.000000   72036.000000   \n",
              "max      6.000000     4.000000                1.000000  250000.000000   \n",
              "\n",
              "            Termd  PositionID           Zip   ManagerID  EngagementSurvey  \\\n",
              "count  311.000000  311.000000    311.000000  303.000000        311.000000   \n",
              "mean     0.334405   16.845659   6555.482315   14.570957          4.110000   \n",
              "std      0.472542    6.223419  16908.396884    8.078306          0.789938   \n",
              "min      0.000000    1.000000   1013.000000    1.000000          1.120000   \n",
              "25%      0.000000   18.000000   1901.500000   10.000000          3.690000   \n",
              "50%      0.000000   19.000000   2132.000000   15.000000          4.280000   \n",
              "75%      1.000000   20.000000   2355.000000   19.000000          4.700000   \n",
              "max      1.000000   30.000000  98052.000000   39.000000          5.000000   \n",
              "\n",
              "       EmpSatisfaction  SpecialProjectsCount  DaysLateLast30    Absences  \n",
              "count       311.000000            311.000000      311.000000  311.000000  \n",
              "mean          3.890675              1.218650        0.414791   10.237942  \n",
              "std           0.909241              2.349421        1.294519    5.852596  \n",
              "min           1.000000              0.000000        0.000000    1.000000  \n",
              "25%           3.000000              0.000000        0.000000    5.000000  \n",
              "50%           4.000000              0.000000        0.000000   10.000000  \n",
              "75%           5.000000              0.000000        0.000000   15.000000  \n",
              "max           5.000000              8.000000        6.000000   20.000000  "
            ],
            "text/html": [
              "\n",
              "  <div id=\"df-bf0b80e2-e114-4281-abc0-9cc7a5b3c174\">\n",
              "    <div class=\"colab-df-container\">\n",
              "      <div>\n",
              "<style scoped>\n",
              "    .dataframe tbody tr th:only-of-type {\n",
              "        vertical-align: middle;\n",
              "    }\n",
              "\n",
              "    .dataframe tbody tr th {\n",
              "        vertical-align: top;\n",
              "    }\n",
              "\n",
              "    .dataframe thead th {\n",
              "        text-align: right;\n",
              "    }\n",
              "</style>\n",
              "<table border=\"1\" class=\"dataframe\">\n",
              "  <thead>\n",
              "    <tr style=\"text-align: right;\">\n",
              "      <th></th>\n",
              "      <th>EmpID</th>\n",
              "      <th>MarriedID</th>\n",
              "      <th>MaritalStatusID</th>\n",
              "      <th>GenderID</th>\n",
              "      <th>EmpStatusID</th>\n",
              "      <th>DeptID</th>\n",
              "      <th>PerfScoreID</th>\n",
              "      <th>FromDiversityJobFairID</th>\n",
              "      <th>Salary</th>\n",
              "      <th>Termd</th>\n",
              "      <th>PositionID</th>\n",
              "      <th>Zip</th>\n",
              "      <th>ManagerID</th>\n",
              "      <th>EngagementSurvey</th>\n",
              "      <th>EmpSatisfaction</th>\n",
              "      <th>SpecialProjectsCount</th>\n",
              "      <th>DaysLateLast30</th>\n",
              "      <th>Absences</th>\n",
              "    </tr>\n",
              "  </thead>\n",
              "  <tbody>\n",
              "    <tr>\n",
              "      <th>count</th>\n",
              "      <td>311.000000</td>\n",
              "      <td>311.000000</td>\n",
              "      <td>311.000000</td>\n",
              "      <td>311.000000</td>\n",
              "      <td>311.000000</td>\n",
              "      <td>311.000000</td>\n",
              "      <td>311.000000</td>\n",
              "      <td>311.000000</td>\n",
              "      <td>311.000000</td>\n",
              "      <td>311.000000</td>\n",
              "      <td>311.000000</td>\n",
              "      <td>311.000000</td>\n",
              "      <td>303.000000</td>\n",
              "      <td>311.000000</td>\n",
              "      <td>311.000000</td>\n",
              "      <td>311.000000</td>\n",
              "      <td>311.000000</td>\n",
              "      <td>311.000000</td>\n",
              "    </tr>\n",
              "    <tr>\n",
              "      <th>mean</th>\n",
              "      <td>10156.000000</td>\n",
              "      <td>0.398714</td>\n",
              "      <td>0.810289</td>\n",
              "      <td>0.434084</td>\n",
              "      <td>2.392283</td>\n",
              "      <td>4.610932</td>\n",
              "      <td>2.977492</td>\n",
              "      <td>0.093248</td>\n",
              "      <td>69020.684887</td>\n",
              "      <td>0.334405</td>\n",
              "      <td>16.845659</td>\n",
              "      <td>6555.482315</td>\n",
              "      <td>14.570957</td>\n",
              "      <td>4.110000</td>\n",
              "      <td>3.890675</td>\n",
              "      <td>1.218650</td>\n",
              "      <td>0.414791</td>\n",
              "      <td>10.237942</td>\n",
              "    </tr>\n",
              "    <tr>\n",
              "      <th>std</th>\n",
              "      <td>89.922189</td>\n",
              "      <td>0.490423</td>\n",
              "      <td>0.943239</td>\n",
              "      <td>0.496435</td>\n",
              "      <td>1.794383</td>\n",
              "      <td>1.083487</td>\n",
              "      <td>0.587072</td>\n",
              "      <td>0.291248</td>\n",
              "      <td>25156.636930</td>\n",
              "      <td>0.472542</td>\n",
              "      <td>6.223419</td>\n",
              "      <td>16908.396884</td>\n",
              "      <td>8.078306</td>\n",
              "      <td>0.789938</td>\n",
              "      <td>0.909241</td>\n",
              "      <td>2.349421</td>\n",
              "      <td>1.294519</td>\n",
              "      <td>5.852596</td>\n",
              "    </tr>\n",
              "    <tr>\n",
              "      <th>min</th>\n",
              "      <td>10001.000000</td>\n",
              "      <td>0.000000</td>\n",
              "      <td>0.000000</td>\n",
              "      <td>0.000000</td>\n",
              "      <td>1.000000</td>\n",
              "      <td>1.000000</td>\n",
              "      <td>1.000000</td>\n",
              "      <td>0.000000</td>\n",
              "      <td>45046.000000</td>\n",
              "      <td>0.000000</td>\n",
              "      <td>1.000000</td>\n",
              "      <td>1013.000000</td>\n",
              "      <td>1.000000</td>\n",
              "      <td>1.120000</td>\n",
              "      <td>1.000000</td>\n",
              "      <td>0.000000</td>\n",
              "      <td>0.000000</td>\n",
              "      <td>1.000000</td>\n",
              "    </tr>\n",
              "    <tr>\n",
              "      <th>25%</th>\n",
              "      <td>10078.500000</td>\n",
              "      <td>0.000000</td>\n",
              "      <td>0.000000</td>\n",
              "      <td>0.000000</td>\n",
              "      <td>1.000000</td>\n",
              "      <td>5.000000</td>\n",
              "      <td>3.000000</td>\n",
              "      <td>0.000000</td>\n",
              "      <td>55501.500000</td>\n",
              "      <td>0.000000</td>\n",
              "      <td>18.000000</td>\n",
              "      <td>1901.500000</td>\n",
              "      <td>10.000000</td>\n",
              "      <td>3.690000</td>\n",
              "      <td>3.000000</td>\n",
              "      <td>0.000000</td>\n",
              "      <td>0.000000</td>\n",
              "      <td>5.000000</td>\n",
              "    </tr>\n",
              "    <tr>\n",
              "      <th>50%</th>\n",
              "      <td>10156.000000</td>\n",
              "      <td>0.000000</td>\n",
              "      <td>1.000000</td>\n",
              "      <td>0.000000</td>\n",
              "      <td>1.000000</td>\n",
              "      <td>5.000000</td>\n",
              "      <td>3.000000</td>\n",
              "      <td>0.000000</td>\n",
              "      <td>62810.000000</td>\n",
              "      <td>0.000000</td>\n",
              "      <td>19.000000</td>\n",
              "      <td>2132.000000</td>\n",
              "      <td>15.000000</td>\n",
              "      <td>4.280000</td>\n",
              "      <td>4.000000</td>\n",
              "      <td>0.000000</td>\n",
              "      <td>0.000000</td>\n",
              "      <td>10.000000</td>\n",
              "    </tr>\n",
              "    <tr>\n",
              "      <th>75%</th>\n",
              "      <td>10233.500000</td>\n",
              "      <td>1.000000</td>\n",
              "      <td>1.000000</td>\n",
              "      <td>1.000000</td>\n",
              "      <td>5.000000</td>\n",
              "      <td>5.000000</td>\n",
              "      <td>3.000000</td>\n",
              "      <td>0.000000</td>\n",
              "      <td>72036.000000</td>\n",
              "      <td>1.000000</td>\n",
              "      <td>20.000000</td>\n",
              "      <td>2355.000000</td>\n",
              "      <td>19.000000</td>\n",
              "      <td>4.700000</td>\n",
              "      <td>5.000000</td>\n",
              "      <td>0.000000</td>\n",
              "      <td>0.000000</td>\n",
              "      <td>15.000000</td>\n",
              "    </tr>\n",
              "    <tr>\n",
              "      <th>max</th>\n",
              "      <td>10311.000000</td>\n",
              "      <td>1.000000</td>\n",
              "      <td>4.000000</td>\n",
              "      <td>1.000000</td>\n",
              "      <td>5.000000</td>\n",
              "      <td>6.000000</td>\n",
              "      <td>4.000000</td>\n",
              "      <td>1.000000</td>\n",
              "      <td>250000.000000</td>\n",
              "      <td>1.000000</td>\n",
              "      <td>30.000000</td>\n",
              "      <td>98052.000000</td>\n",
              "      <td>39.000000</td>\n",
              "      <td>5.000000</td>\n",
              "      <td>5.000000</td>\n",
              "      <td>8.000000</td>\n",
              "      <td>6.000000</td>\n",
              "      <td>20.000000</td>\n",
              "    </tr>\n",
              "  </tbody>\n",
              "</table>\n",
              "</div>\n",
              "      <button class=\"colab-df-convert\" onclick=\"convertToInteractive('df-bf0b80e2-e114-4281-abc0-9cc7a5b3c174')\"\n",
              "              title=\"Convert this dataframe to an interactive table.\"\n",
              "              style=\"display:none;\">\n",
              "        \n",
              "  <svg xmlns=\"http://www.w3.org/2000/svg\" height=\"24px\"viewBox=\"0 0 24 24\"\n",
              "       width=\"24px\">\n",
              "    <path d=\"M0 0h24v24H0V0z\" fill=\"none\"/>\n",
              "    <path d=\"M18.56 5.44l.94 2.06.94-2.06 2.06-.94-2.06-.94-.94-2.06-.94 2.06-2.06.94zm-11 1L8.5 8.5l.94-2.06 2.06-.94-2.06-.94L8.5 2.5l-.94 2.06-2.06.94zm10 10l.94 2.06.94-2.06 2.06-.94-2.06-.94-.94-2.06-.94 2.06-2.06.94z\"/><path d=\"M17.41 7.96l-1.37-1.37c-.4-.4-.92-.59-1.43-.59-.52 0-1.04.2-1.43.59L10.3 9.45l-7.72 7.72c-.78.78-.78 2.05 0 2.83L4 21.41c.39.39.9.59 1.41.59.51 0 1.02-.2 1.41-.59l7.78-7.78 2.81-2.81c.8-.78.8-2.07 0-2.86zM5.41 20L4 18.59l7.72-7.72 1.47 1.35L5.41 20z\"/>\n",
              "  </svg>\n",
              "      </button>\n",
              "      \n",
              "  <style>\n",
              "    .colab-df-container {\n",
              "      display:flex;\n",
              "      flex-wrap:wrap;\n",
              "      gap: 12px;\n",
              "    }\n",
              "\n",
              "    .colab-df-convert {\n",
              "      background-color: #E8F0FE;\n",
              "      border: none;\n",
              "      border-radius: 50%;\n",
              "      cursor: pointer;\n",
              "      display: none;\n",
              "      fill: #1967D2;\n",
              "      height: 32px;\n",
              "      padding: 0 0 0 0;\n",
              "      width: 32px;\n",
              "    }\n",
              "\n",
              "    .colab-df-convert:hover {\n",
              "      background-color: #E2EBFA;\n",
              "      box-shadow: 0px 1px 2px rgba(60, 64, 67, 0.3), 0px 1px 3px 1px rgba(60, 64, 67, 0.15);\n",
              "      fill: #174EA6;\n",
              "    }\n",
              "\n",
              "    [theme=dark] .colab-df-convert {\n",
              "      background-color: #3B4455;\n",
              "      fill: #D2E3FC;\n",
              "    }\n",
              "\n",
              "    [theme=dark] .colab-df-convert:hover {\n",
              "      background-color: #434B5C;\n",
              "      box-shadow: 0px 1px 3px 1px rgba(0, 0, 0, 0.15);\n",
              "      filter: drop-shadow(0px 1px 2px rgba(0, 0, 0, 0.3));\n",
              "      fill: #FFFFFF;\n",
              "    }\n",
              "  </style>\n",
              "\n",
              "      <script>\n",
              "        const buttonEl =\n",
              "          document.querySelector('#df-bf0b80e2-e114-4281-abc0-9cc7a5b3c174 button.colab-df-convert');\n",
              "        buttonEl.style.display =\n",
              "          google.colab.kernel.accessAllowed ? 'block' : 'none';\n",
              "\n",
              "        async function convertToInteractive(key) {\n",
              "          const element = document.querySelector('#df-bf0b80e2-e114-4281-abc0-9cc7a5b3c174');\n",
              "          const dataTable =\n",
              "            await google.colab.kernel.invokeFunction('convertToInteractive',\n",
              "                                                     [key], {});\n",
              "          if (!dataTable) return;\n",
              "\n",
              "          const docLinkHtml = 'Like what you see? Visit the ' +\n",
              "            '<a target=\"_blank\" href=https://colab.research.google.com/notebooks/data_table.ipynb>data table notebook</a>'\n",
              "            + ' to learn more about interactive tables.';\n",
              "          element.innerHTML = '';\n",
              "          dataTable['output_type'] = 'display_data';\n",
              "          await google.colab.output.renderOutput(dataTable, element);\n",
              "          const docLink = document.createElement('div');\n",
              "          docLink.innerHTML = docLinkHtml;\n",
              "          element.appendChild(docLink);\n",
              "        }\n",
              "      </script>\n",
              "    </div>\n",
              "  </div>\n",
              "  "
            ]
          },
          "metadata": {},
          "execution_count": 7
        }
      ]
    },
    {
      "cell_type": "code",
      "source": [
        "hr_emp.columns"
      ],
      "metadata": {
        "colab": {
          "base_uri": "https://localhost:8080/"
        },
        "id": "po4BzivAMq5r",
        "outputId": "1d077655-1bcf-4ee7-c3f9-870e37e97227"
      },
      "execution_count": null,
      "outputs": [
        {
          "output_type": "execute_result",
          "data": {
            "text/plain": [
              "Index(['Employee_Name', 'EmpID', 'MarriedID', 'MaritalStatusID', 'GenderID',\n",
              "       'EmpStatusID', 'DeptID', 'PerfScoreID', 'FromDiversityJobFairID',\n",
              "       'Salary', 'Termd', 'PositionID', 'Position', 'State', 'Zip', 'DOB',\n",
              "       'Sex', 'MaritalDesc', 'CitizenDesc', 'HispanicLatino', 'RaceDesc',\n",
              "       'DateofHire', 'DateofTermination', 'TermReason', 'EmploymentStatus',\n",
              "       'Department', 'ManagerName', 'ManagerID', 'RecruitmentSource',\n",
              "       'PerformanceScore', 'EngagementSurvey', 'EmpSatisfaction',\n",
              "       'SpecialProjectsCount', 'LastPerformanceReview_Date', 'DaysLateLast30',\n",
              "       'Absences'],\n",
              "      dtype='object')"
            ]
          },
          "metadata": {},
          "execution_count": 8
        }
      ]
    },
    {
      "cell_type": "code",
      "source": [
        "#Remaning the column \n",
        "hr_emp.rename(columns={'ï»¿Employee_Name': 'Employee_Name'}, inplace=True)"
      ],
      "metadata": {
        "id": "MtC1mpfUe69d"
      },
      "execution_count": 11,
      "outputs": []
    },
    {
      "cell_type": "markdown",
      "source": [
        "# After checking the information of dataframe need to fixed data type of required **columns**"
      ],
      "metadata": {
        "id": "WGBPDMcDfQP7"
      }
    },
    {
      "cell_type": "code",
      "source": [
        "hr_emp[\"DOB\"]= pd.to_datetime(hr_emp[\"DOB\"],errors=\"coerce\")\n",
        "hr_emp[\"DateofHire\"]= pd.to_datetime(hr_emp[\"DateofHire\"],errors=\"coerce\")\n",
        "hr_emp[\"DateofTermination\"]= pd.to_datetime(hr_emp[\"DateofTermination\"],errors=\"coerce\")\n",
        "hr_emp[\"LastPerformanceReview_Date\"]= pd.to_datetime(hr_emp[\"LastPerformanceReview_Date\"],errors=\"coerce\")\n",
        "hr_emp['Employee_Name']=hr_emp['Employee_Name'].astype(str)"
      ],
      "metadata": {
        "id": "wNJRUUSje66E"
      },
      "execution_count": 12,
      "outputs": []
    },
    {
      "cell_type": "code",
      "source": [
        "#cheching null values in the DataFrame\n",
        "hr_emp.isnull().sum()"
      ],
      "metadata": {
        "colab": {
          "base_uri": "https://localhost:8080/"
        },
        "id": "HR1UMD6cgMyk",
        "outputId": "c2dca591-6ee9-4b71-bf84-d19b291857a1"
      },
      "execution_count": 13,
      "outputs": [
        {
          "output_type": "execute_result",
          "data": {
            "text/plain": [
              "Employee_Name                   0\n",
              "EmpID                           0\n",
              "MarriedID                       0\n",
              "MaritalStatusID                 0\n",
              "GenderID                        0\n",
              "EmpStatusID                     0\n",
              "DeptID                          0\n",
              "PerfScoreID                     0\n",
              "FromDiversityJobFairID          0\n",
              "Salary                          0\n",
              "Termd                           0\n",
              "PositionID                      0\n",
              "Position                        0\n",
              "State                           0\n",
              "Zip                             0\n",
              "DOB                             0\n",
              "Sex                             0\n",
              "MaritalDesc                     0\n",
              "CitizenDesc                     0\n",
              "HispanicLatino                  0\n",
              "RaceDesc                        0\n",
              "DateofHire                      0\n",
              "DateofTermination             207\n",
              "TermReason                      0\n",
              "EmploymentStatus                0\n",
              "Department                      0\n",
              "ManagerName                     0\n",
              "ManagerID                       8\n",
              "RecruitmentSource               0\n",
              "PerformanceScore                0\n",
              "EngagementSurvey                0\n",
              "EmpSatisfaction                 0\n",
              "SpecialProjectsCount            0\n",
              "LastPerformanceReview_Date      0\n",
              "DaysLateLast30                  0\n",
              "Absences                        0\n",
              "dtype: int64"
            ]
          },
          "metadata": {},
          "execution_count": 13
        }
      ]
    },
    {
      "cell_type": "code",
      "source": [
        "#Replacing comma's  from name to space \n",
        "hr_emp['Employee_Name']=hr_emp['Employee_Name'].str.replace(',',' ')"
      ],
      "metadata": {
        "id": "MTdZ9LJJgMvG"
      },
      "execution_count": 14,
      "outputs": []
    },
    {
      "cell_type": "code",
      "source": [
        "hr_emp['MarriedID'].value_counts()"
      ],
      "metadata": {
        "colab": {
          "base_uri": "https://localhost:8080/"
        },
        "id": "tr3d6uOLgu8P",
        "outputId": "b582e0e0-280d-4ad2-9539-3b7c27402127"
      },
      "execution_count": 16,
      "outputs": [
        {
          "output_type": "execute_result",
          "data": {
            "text/plain": [
              "0    187\n",
              "1    124\n",
              "Name: MarriedID, dtype: int64"
            ]
          },
          "metadata": {},
          "execution_count": 16
        }
      ]
    },
    {
      "cell_type": "code",
      "source": [
        "# This col is unnecessery  inspite of this column  We can use MaritalDesc  but we can keep this column for ML models traning if required \n",
        "hr_emp['MaritalStatusID'].value_counts()"
      ],
      "metadata": {
        "colab": {
          "base_uri": "https://localhost:8080/"
        },
        "id": "Cj8MhaItg_Z7",
        "outputId": "99edff1f-6ca9-4957-8168-55918ed8d9f7"
      },
      "execution_count": 17,
      "outputs": [
        {
          "output_type": "execute_result",
          "data": {
            "text/plain": [
              "0    137\n",
              "1    124\n",
              "2     30\n",
              "3     12\n",
              "4      8\n",
              "Name: MaritalStatusID, dtype: int64"
            ]
          },
          "metadata": {},
          "execution_count": 17
        }
      ]
    },
    {
      "cell_type": "code",
      "source": [
        "#chicking the department column\n",
        "hr_emp['Department'].value_counts()"
      ],
      "metadata": {
        "colab": {
          "base_uri": "https://localhost:8080/"
        },
        "id": "jegMUrN0iELY",
        "outputId": "e23c05cc-d7cc-428c-8beb-1aa49fd004c9"
      },
      "execution_count": 22,
      "outputs": [
        {
          "output_type": "execute_result",
          "data": {
            "text/plain": [
              "Production              209\n",
              "IT/IS                    50\n",
              "Sales                    31\n",
              "Software Engineering     11\n",
              "Admin Offices             9\n",
              "Executive Office          1\n",
              "Name: Department, dtype: int64"
            ]
          },
          "metadata": {},
          "execution_count": 22
        }
      ]
    },
    {
      "cell_type": "code",
      "source": [
        "# for gender col we will considering only male and Female Not considering other Gender \n",
        "# 1 for Male \n",
        "# 0 for female\n",
        "# we can drop the Sex col but for the visulation we are not droping for this time only  \n",
        "hr_emp['GenderID'].value_counts()"
      ],
      "metadata": {
        "colab": {
          "base_uri": "https://localhost:8080/"
        },
        "id": "zaraL3wkg_Wh",
        "outputId": "bc3186f6-47aa-4d8c-9a76-abd90c331db5"
      },
      "execution_count": 18,
      "outputs": [
        {
          "output_type": "execute_result",
          "data": {
            "text/plain": [
              "0    176\n",
              "1    135\n",
              "Name: GenderID, dtype: int64"
            ]
          },
          "metadata": {},
          "execution_count": 18
        }
      ]
    },
    {
      "cell_type": "code",
      "source": [
        "#checking the hiring source\n",
        "plt.figure(figsize=(10,5))\n",
        "hr_emp['RecruitmentSource'].value_counts().plot.bar()\n",
        "plt.title(\"hiring_source\")\n",
        "plt.ylabel(\"Counts\")\n",
        "# most number of employee hire from Indeed "
      ],
      "metadata": {
        "colab": {
          "base_uri": "https://localhost:8080/",
          "height": 636
        },
        "id": "9x24Tsy_hwY4",
        "outputId": "45714641-96f3-4f54-c3f9-0d84761c80a8"
      },
      "execution_count": 20,
      "outputs": [
        {
          "output_type": "execute_result",
          "data": {
            "text/plain": [
              "Text(0, 0.5, 'Counts')"
            ]
          },
          "metadata": {},
          "execution_count": 20
        },
        {
          "output_type": "display_data",
          "data": {
            "text/plain": [
              "<Figure size 1000x500 with 1 Axes>"
            ],
            "image/png": "[encoded data removed]"
          },
          "metadata": {}
        }
      ]
    },
    {
      "cell_type": "markdown",
      "source": [
        "**Data Visualistion**"
      ],
      "metadata": {
        "id": "Qu_zkNaQdbOe"
      }
    },
    {
      "cell_type": "code",
      "source": [
        "# this will show the status of emplyees \n",
        "sns.countplot(y = hr_emp['EmploymentStatus'], data = hr_emp)"
      ],
      "metadata": {
        "id": "lBiK4TdhMq72",
        "colab": {
          "base_uri": "https://localhost:8080/",
          "height": 466
        },
        "outputId": "61b1b737-5d6b-41a7-a835-91e0f780de59"
      },
      "execution_count": 25,
      "outputs": [
        {
          "output_type": "execute_result",
          "data": {
            "text/plain": [
              "<Axes: xlabel='count', ylabel='EmploymentStatus'>"
            ]
          },
          "metadata": {},
          "execution_count": 25
        },
        {
          "output_type": "display_data",
          "data": {
            "text/plain": [
              "<Figure size 640x480 with 1 Axes>"
            ],
            "image/png": "[encoded data removed]"
          },
          "metadata": {}
        }
      ]
    },
    {
      "cell_type": "code",
      "source": [
        "#checking employee distribution  department wise\n",
        "plt.rcParams[\"figure.figsize\"] = (8,6)\n",
        "sns.displot(hr_emp['Department']) "
      ],
      "metadata": {
        "id": "k6u2lUn_Mq-I",
        "colab": {
          "base_uri": "https://localhost:8080/",
          "height": 523
        },
        "outputId": "97f21779-ab6c-47e1-afe6-061b69cdf97d"
      },
      "execution_count": 27,
      "outputs": [
        {
          "output_type": "execute_result",
          "data": {
            "text/plain": [
              "<seaborn.axisgrid.FacetGrid at 0x7fecdc7fc4c0>"
            ]
          },
          "metadata": {},
          "execution_count": 27
        },
        {
          "output_type": "display_data",
          "data": {
            "text/plain": [
              "<Figure size 500x500 with 1 Axes>"
            ],
            "image/png": "[encoded data removed]"
          },
          "metadata": {}
        }
      ]
    },
    {
      "cell_type": "code",
      "source": [
        "#checking outliers \n",
        "plt.figure(figsize=(10,5))\n",
        "sns.boxplot(x=hr_emp[\"Department\"], y=hr_emp[\"Salary\"],data=hr_emp)  \n",
        "plt.show()"
      ],
      "metadata": {
        "id": "q0gSRoMUMrA8",
        "colab": {
          "base_uri": "https://localhost:8080/",
          "height": 465
        },
        "outputId": "f3fdba24-91fe-4072-ab6c-b5bc3f2c52d7"
      },
      "execution_count": 29,
      "outputs": [
        {
          "output_type": "display_data",
          "data": {
            "text/plain": [
              "<Figure size 1000x500 with 1 Axes>"
            ],
            "image/png": "[encoded data removed]"
          },
          "metadata": {}
        }
      ]
    },
    {
      "cell_type": "code",
      "source": [
        "Labels =['Female',\"Male\"]\n",
        "plt.pie(hr_emp['Sex'].value_counts(),labels = Labels,shadow = True)\n",
        "plt.legend(title = 'Genders')\n",
        "plt.show()"
      ],
      "metadata": {
        "id": "L9r3_1y2MrDj",
        "colab": {
          "base_uri": "https://localhost:8080/",
          "height": 499
        },
        "outputId": "0527b828-6e01-400b-b879-14bace587ef2"
      },
      "execution_count": 31,
      "outputs": [
        {
          "output_type": "display_data",
          "data": {
            "text/plain": [
              "<Figure size 800x600 with 1 Axes>"
            ],
            "image/png": "[encoded data removed]"
          },
          "metadata": {}
        }
      ]
    },
    {
      "cell_type": "code",
      "source": [
        "#departmentwise  perform of Gender Male are performing well in each and every department \n",
        "plt.figure(figsize=(10,5))\n",
        "sns.scatterplot(x=hr_emp[\"Department\"], y=hr_emp[\"PerformanceScore\"],hue = hr_emp['Sex'],data=hr_emp) "
      ],
      "metadata": {
        "id": "gJDNsqZyMrG7",
        "colab": {
          "base_uri": "https://localhost:8080/",
          "height": 482
        },
        "outputId": "40215562-aab1-460c-a3cd-7db9ef724636"
      },
      "execution_count": 33,
      "outputs": [
        {
          "output_type": "execute_result",
          "data": {
            "text/plain": [
              "<Axes: xlabel='Department', ylabel='PerformanceScore'>"
            ]
          },
          "metadata": {},
          "execution_count": 33
        },
        {
          "output_type": "display_data",
          "data": {
            "text/plain": [
              "<Figure size 1000x500 with 1 Axes>"
            ],
            "image/png": "[encoded data removed]"
          },
          "metadata": {}
        }
      ]
    },
    {
      "cell_type": "code",
      "source": [
        "#position wise salary is high for male as compaired to female\n",
        "px.scatter(hr_emp, x = hr_emp['Position'], y = hr_emp['Salary'],color = hr_emp['Sex'])"
      ],
      "metadata": {
        "colab": {
          "base_uri": "https://localhost:8080/",
          "height": 542
        },
        "id": "NoWncm87j_3g",
        "outputId": "54311c14-31b2-4cad-d9e9-9c293e663d6c"
      },
      "execution_count": 36,
      "outputs": [
        {
          "output_type": "display_data",
          "data": {
            "text/html": [
              "<html>\n",
              "<head><meta charset=\"utf-8\" /></head>\n",
              "<body>\n",
              "    <div>            <script src=\"https://cdnjs.cloudflare.com/ajax/libs/mathjax/2.7.5/MathJax.js?config=TeX-AMS-MML_SVG\"></script><script type=\"text/javascript\">if (window.MathJax && window.MathJax.Hub && window.MathJax.Hub.Config) {window.MathJax.Hub.Config({SVG: {font: \"STIX-Web\"}});}</script>                <script type=\"text/javascript\">window.PlotlyConfig = {MathJaxConfig: 'local'};</script>\n",
              "        <script src=\"https://cdn.plot.ly/plotly-2.18.2.min.js\"></script>                <div id=\"596ca253-8e60-44ee-b7b4-9f73c1cbf1c3\" class=\"plotly-graph-div\" style=\"height:525px; width:100%;\"></div>            <script type=\"text/javascript\">                                    window.PLOTLYENV=window.PLOTLYENV || {};                                    if (document.getElementById(\"596ca253-8e60-44ee-b7b4-9f73c1cbf1c3\")) {                    Plotly.newPlot(                        \"596ca253-8e60-44ee-b7b4-9f73c1cbf1c3\",                        [{\"hovertemplate\":\"Sex=M <br>Position=%{x}<br>Salary=%{y}<extra></extra>\",\"legendgroup\":\"M \",\"marker\":{\"color\":\"#636efa\",\"symbol\":\"circle\"},\"mode\":\"markers\",\"name\":\"M \",\"orientation\":\"v\",\"showlegend\":true,\"x\":[\"Production Technician I\",\"Sr. DBA\",\"Production Technician I\",\"IT Support\",\"Production Technician I\",\"Data Analyst\",\"Production Technician I\",\"Production Technician I\",\"Production Technician I\",\"Production Technician I\",\"Production Technician I\",\"Enterprise Architect\",\"Production Manager\",\"Production Technician II\",\"Production Technician II\",\"Software Engineering Manager\",\"Production Manager\",\"Production Technician I\",\"BI Director\",\"Production Technician I\",\"Area Sales Manager\",\"IT Support\",\"Production Technician II\",\"Production Technician I\",\"Production Technician I\",\"Production Technician I\",\"Production Manager\",\"Director of Operations\",\"Data Analyst\",\"Sr. Network Engineer\",\"Production Technician II\",\"Production Technician I\",\"Production Technician I\",\"Area Sales Manager\",\"Production Technician I\",\"BI Developer\",\"Production Technician I\",\"IT Manager - Support\",\"Production Technician I\",\"Production Technician I\",\"Production Technician I\",\"Production Technician I\",\"Network Engineer\",\"Production Technician II\",\"Area Sales Manager\",\"IT Director\",\"Area Sales Manager\",\"Production Technician I\",\"Production Technician I\",\"IT Support\",\"Production Technician I\",\"Production Technician II\",\"Production Technician I\",\"Production Manager\",\"BI Developer\",\"Area Sales Manager\",\"Production Technician II\",\"Production Technician I\",\"Area Sales Manager\",\"Production Manager\",\"Production Technician I\",\"Production Technician I\",\"Area Sales Manager\",\"Production Technician I\",\"Production Technician I\",\"Area Sales Manager\",\"Sr. Network Engineer\",\"Production Manager\",\"Production Technician I\",\"Accountant I\",\"Production Technician II\",\"Shared Services Manager\",\"Production Technician I\",\"Area Sales Manager\",\"Production Technician II\",\"Production Technician I\",\"Area Sales Manager\",\"Production Manager\",\"Production Technician II\",\"Production Technician II\",\"IT Manager - Infra\",\"Production Technician II\",\"Production Technician II\",\"Production Technician I\",\"Senior BI Developer\",\"Production Technician I\",\"Production Technician I\",\"Production Technician I\",\"Production Technician I\",\"Production Technician I\",\"Area Sales Manager\",\"Software Engineer\",\"Data Analyst\",\"Production Technician I\",\"Production Technician I\",\"Production Technician I\",\"Production Technician I\",\"Software Engineer\",\"Production Technician I\",\"Area Sales Manager\",\"Production Technician I\",\"Production Technician II\",\"Production Technician I\",\"Production Technician I\",\"Production Technician I\",\"IT Manager - DB\",\"IT Manager - DB\",\"Production Technician I\",\"Production Technician II\",\"Data Analyst \",\"Data Analyst\",\"Production Technician II\",\"Sales Manager\",\"Sr. Network Engineer\",\"Area Sales Manager\",\"Accountant I\",\"Production Technician I\",\"Production Technician I\",\"Software Engineer\",\"BI Developer\",\"Production Technician II\",\"Area Sales Manager\",\"Network Engineer\",\"Software Engineer\",\"Network Engineer\",\"Production Technician I\",\"Production Manager\",\"Area Sales Manager\",\"Database Administrator\",\"Production Technician II\",\"Senior BI Developer\",\"Production Technician I\",\"Production Technician I\",\"Production Technician II\",\"Production Technician II\"],\"xaxis\":\"x\",\"y\":[62506,104437,59365,50178,47211,92328,58709,52505,57834,53250,51044,103613,74312,65288,62162,77692,72640,52846,110929,60380,66808,68678,59369,50373,63108,59144,68051,170500,83552,92329,56294,56991,55722,61568,53189,96820,51259,138888,48888,54285,60340,64057,53366,72609,70187,178000,67251,52249,54933,74679,59892,68898,48285,62957,99020,71707,64246,46998,70545,83082,46837,50482,65310,46654,63973,71339,93206,82758,46120,64520,61962,93046,64738,70468,63450,52788,63291,83667,55800,58207,157000,72106,74417,57575,87921,50470,46664,48495,47414,53060,68829,108987,93093,53564,64724,47001,59472,83363,61729,61809,45115,55578,50428,63353,53180,140920,148999,46428,57975,88527,87826,60656,72992,87565,58273,63003,61355,63025,92989,90100,67176,64397,75281,100416,76029,58523,88976,55875,113999,66541,84903,58371,55140,70507,65893],\"yaxis\":\"y\",\"type\":\"scatter\"},{\"hovertemplate\":\"Sex=F<br>Position=%{x}<br>Salary=%{y}<extra></extra>\",\"legendgroup\":\"F\",\"marker\":{\"color\":\"#EF553B\",\"symbol\":\"circle\"},\"mode\":\"markers\",\"name\":\"F\",\"orientation\":\"v\",\"showlegend\":true,\"x\":[\"Production Technician II\",\"Production Technician I\",\"Production Technician I\",\"Production Technician I\",\"Software Engineer\",\"Production Technician I\",\"Production Technician I\",\"Production Technician II\",\"Production Technician I\",\"Database Administrator\",\"Production Technician I\",\"Production Technician I\",\"Production Technician II\",\"Production Technician II\",\"Sr. Accountant\",\"Production Technician I\",\"Accountant I\",\"Production Technician I\",\"Area Sales Manager\",\"Production Technician II\",\"Software Engineer\",\"Sr. DBA\",\"Area Sales Manager\",\"Production Technician I\",\"Production Technician I\",\"Production Technician I\",\"Production Technician I\",\"Production Technician II\",\"Production Technician I\",\"Production Technician I\",\"Sales Manager\",\"Sr. Network Engineer\",\"Production Technician I\",\"Software Engineer\",\"Production Technician II\",\"Area Sales Manager\",\"Production Technician I\",\"Production Technician I\",\"IT Support\",\"Area Sales Manager\",\"Production Manager\",\"Production Technician I\",\"Production Technician I\",\"Production Technician II\",\"Production Technician I\",\"Software Engineer\",\"Production Technician II\",\"Production Technician II\",\"Production Technician I\",\"Production Technician I\",\"Production Technician II\",\"Sr. Accountant\",\"IT Support\",\"Production Technician I\",\"Production Technician I\",\"Production Technician I\",\"Area Sales Manager\",\"Production Technician I\",\"Area Sales Manager\",\"Database Administrator\",\"Production Technician I\",\"IT Support\",\"Production Technician II\",\"Production Technician II\",\"Production Technician I\",\"Production Technician I\",\"Production Technician I\",\"Production Technician I\",\"Production Technician I\",\"Production Technician II\",\"Production Technician II\",\"Database Administrator\",\"Director of Sales\",\"Administrative Assistant\",\"Production Technician I\",\"Production Technician II\",\"Production Technician II\",\"Production Technician II\",\"Production Technician I\",\"Production Technician I\",\"Production Technician I\",\"Production Technician II\",\"Production Technician I\",\"Database Administrator\",\"Production Technician II\",\"Production Technician I\",\"Sales Manager\",\"President & CEO\",\"Production Technician I\",\"Production Technician I\",\"Production Technician II\",\"Senior BI Developer\",\"Production Technician I\",\"Production Manager\",\"Production Technician I\",\"IT Support\",\"Production Technician II\",\"Production Technician II\",\"Production Technician I\",\"Production Technician I\",\"Production Technician I\",\"Production Technician II\",\"Production Technician II\",\"Production Technician I\",\"Software Engineer\",\"Production Technician I\",\"Production Technician II\",\"Production Technician I\",\"Production Technician I\",\"Production Technician I\",\"Production Technician II\",\"Network Engineer\",\"Production Technician I\",\"Production Technician I\",\"Area Sales Manager\",\"Production Technician I\",\"Production Technician II\",\"Production Technician I\",\"Production Technician II\",\"Area Sales Manager\",\"Production Technician I\",\"Production Technician II\",\"Production Technician I\",\"Production Technician II\",\"Production Manager\",\"Production Technician II\",\"Data Analyst\",\"Area Sales Manager\",\"Production Technician I\",\"Production Technician I\",\"BI Developer\",\"Production Technician I\",\"Production Technician II\",\"Production Technician I\",\"Data Analyst\",\"Principal Data Architect\",\"Data Architect\",\"Production Technician I\",\"Software Engineer\",\"Production Technician I\",\"Production Technician I\",\"Production Technician I\",\"Network Engineer\",\"Production Technician I\",\"Administrative Assistant\",\"Production Technician II\",\"Administrative Assistant\",\"Production Technician I\",\"IT Support\",\"Production Technician I\",\"Production Manager\",\"Production Technician I\",\"Production Technician I\",\"Area Sales Manager\",\"Production Manager\",\"Production Technician I\",\"Production Technician I\",\"Production Technician II\",\"Area Sales Manager\",\"Production Technician I\",\"Production Technician I\",\"Production Technician I\",\"Production Technician II\",\"Area Sales Manager\",\"Production Technician I\",\"Production Technician I\",\"Production Manager\",\"Production Technician I\",\"Sr. Network Engineer\",\"Production Technician I\",\"Production Technician I\",\"Production Technician II\",\"Production Technician I\",\"CIO\",\"Data Analyst\",\"Production Technician I\"],\"xaxis\":\"x\",\"y\":[64955,64991,50825,57568,95660,47837,54670,70131,59026,110000,64919,62910,66441,57815,106367,53492,63000,64375,74326,63763,93396,100031,71860,61656,54237,64786,64816,64066,63381,56149,65729,85028,57583,101199,58275,59231,61584,46335,70621,74241,75188,62514,60070,56847,59124,99280,71776,65902,57748,58530,55965,99351,65707,53171,51337,51505,59370,57815,61555,114800,53018,61242,66825,66149,49256,63813,54828,52177,62065,68099,63478,97999,180000,49920,55425,69340,64995,68182,51908,61242,45069,60724,60436,105700,63322,61154,68999,250000,54005,45433,66074,81584,63676,77915,52624,51777,67237,73330,52057,47434,45395,62385,68407,61349,105688,54132,55315,62810,62659,55688,72460,52599,63430,52984,63695,62061,66738,52674,71966,63051,63515,60270,45998,57954,74669,74226,93554,61844,46799,46430,95920,46738,64971,61422,89883,120000,150290,60627,86214,47750,56147,50923,50750,52087,51920,63878,55000,58939,66593,64021,65714,62425,47961,60120,63682,59238,60754,72202,58370,48413,56339,63025,74813,57859,49773,62068,80512,50274,107226,58062,59728,60446,48513,220450,89292,45046],\"yaxis\":\"y\",\"type\":\"scatter\"}],                        {\"template\":{\"data\":{\"histogram2dcontour\":[{\"type\":\"histogram2dcontour\",\"colorbar\":{\"outlinewidth\":0,\"ticks\":\"\"},\"colorscale\":[[0.0,\"#0d0887\"],[0.1111111111111111,\"#46039f\"],[0.2222222222222222,\"#7201a8\"],[0.3333333333333333,\"#9c179e\"],[0.4444444444444444,\"#bd3786\"],[0.5555555555555556,\"#d8576b\"],[0.6666666666666666,\"#ed7953\"],[0.7777777777777778,\"#fb9f3a\"],[0.8888888888888888,\"#fdca26\"],[1.0,\"#f0f921\"]]}],\"choropleth\":[{\"type\":\"choropleth\",\"colorbar\":{\"outlinewidth\":0,\"ticks\":\"\"}}],\"histogram2d\":[{\"type\":\"histogram2d\",\"colorbar\":{\"outlinewidth\":0,\"ticks\":\"\"},\"colorscale\":[[0.0,\"#0d0887\"],[0.1111111111111111,\"#46039f\"],[0.2222222222222222,\"#7201a8\"],[0.3333333333333333,\"#9c179e\"],[0.4444444444444444,\"#bd3786\"],[0.5555555555555556,\"#d8576b\"],[0.6666666666666666,\"#ed7953\"],[0.7777777777777778,\"#fb9f3a\"],[0.8888888888888888,\"#fdca26\"],[1.0,\"#f0f921\"]]}],\"heatmap\":[{\"type\":\"heatmap\",\"colorbar\":{\"outlinewidth\":0,\"ticks\":\"\"},\"colorscale\":[[0.0,\"#0d0887\"],[0.1111111111111111,\"#46039f\"],[0.2222222222222222,\"#7201a8\"],[0.3333333333333333,\"#9c179e\"],[0.4444444444444444,\"#bd3786\"],[0.5555555555555556,\"#d8576b\"],[0.6666666666666666,\"#ed7953\"],[0.7777777777777778,\"#fb9f3a\"],[0.8888888888888888,\"#fdca26\"],[1.0,\"#f0f921\"]]}],\"heatmapgl\":[{\"type\":\"heatmapgl\",\"colorbar\":{\"outlinewidth\":0,\"ticks\":\"\"},\"colorscale\":[[0.0,\"#0d0887\"],[0.1111111111111111,\"#46039f\"],[0.2222222222222222,\"#7201a8\"],[0.3333333333333333,\"#9c179e\"],[0.4444444444444444,\"#bd3786\"],[0.5555555555555556,\"#d8576b\"],[0.6666666666666666,\"#ed7953\"],[0.7777777777777778,\"#fb9f3a\"],[0.8888888888888888,\"#fdca26\"],[1.0,\"#f0f921\"]]}],\"contourcarpet\":[{\"type\":\"contourcarpet\",\"colorbar\":{\"outlinewidth\":0,\"ticks\":\"\"}}],\"contour\":[{\"type\":\"contour\",\"colorbar\":{\"outlinewidth\":0,\"ticks\":\"\"},\"colorscale\":[[0.0,\"#0d0887\"],[0.1111111111111111,\"#46039f\"],[0.2222222222222222,\"#7201a8\"],[0.3333333333333333,\"#9c179e\"],[0.4444444444444444,\"#bd3786\"],[0.5555555555555556,\"#d8576b\"],[0.6666666666666666,\"#ed7953\"],[0.7777777777777778,\"#fb9f3a\"],[0.8888888888888888,\"#fdca26\"],[1.0,\"#f0f921\"]]}],\"surface\":[{\"type\":\"surface\",\"colorbar\":{\"outlinewidth\":0,\"ticks\":\"\"},\"colorscale\":[[0.0,\"#0d0887\"],[0.1111111111111111,\"#46039f\"],[0.2222222222222222,\"#7201a8\"],[0.3333333333333333,\"#9c179e\"],[0.4444444444444444,\"#bd3786\"],[0.5555555555555556,\"#d8576b\"],[0.6666666666666666,\"#ed7953\"],[0.7777777777777778,\"#fb9f3a\"],[0.8888888888888888,\"#fdca26\"],[1.0,\"#f0f921\"]]}],\"mesh3d\":[{\"type\":\"mesh3d\",\"colorbar\":{\"outlinewidth\":0,\"ticks\":\"\"}}],\"scatter\":[{\"fillpattern\":{\"fillmode\":\"overlay\",\"size\":10,\"solidity\":0.2},\"type\":\"scatter\"}],\"parcoords\":[{\"type\":\"parcoords\",\"line\":{\"colorbar\":{\"outlinewidth\":0,\"ticks\":\"\"}}}],\"scatterpolargl\":[{\"type\":\"scatterpolargl\",\"marker\":{\"colorbar\":{\"outlinewidth\":0,\"ticks\":\"\"}}}],\"bar\":[{\"error_x\":{\"color\":\"#2a3f5f\"},\"error_y\":{\"color\":\"#2a3f5f\"},\"marker\":{\"line\":{\"color\":\"#E5ECF6\",\"width\":0.5},\"pattern\":{\"fillmode\":\"overlay\",\"size\":10,\"solidity\":0.2}},\"type\":\"bar\"}],\"scattergeo\":[{\"type\":\"scattergeo\",\"marker\":{\"colorbar\":{\"outlinewidth\":0,\"ticks\":\"\"}}}],\"scatterpolar\":[{\"type\":\"scatterpolar\",\"marker\":{\"colorbar\":{\"outlinewidth\":0,\"ticks\":\"\"}}}],\"histogram\":[{\"marker\":{\"pattern\":{\"fillmode\":\"overlay\",\"size\":10,\"solidity\":0.2}},\"type\":\"histogram\"}],\"scattergl\":[{\"type\":\"scattergl\",\"marker\":{\"colorbar\":{\"outlinewidth\":0,\"ticks\":\"\"}}}],\"scatter3d\":[{\"type\":\"scatter3d\",\"line\":{\"colorbar\":{\"outlinewidth\":0,\"ticks\":\"\"}},\"marker\":{\"colorbar\":{\"outlinewidth\":0,\"ticks\":\"\"}}}],\"scattermapbox\":[{\"type\":\"scattermapbox\",\"marker\":{\"colorbar\":{\"outlinewidth\":0,\"ticks\":\"\"}}}],\"scatterternary\":[{\"type\":\"scatterternary\",\"marker\":{\"colorbar\":{\"outlinewidth\":0,\"ticks\":\"\"}}}],\"scattercarpet\":[{\"type\":\"scattercarpet\",\"marker\":{\"colorbar\":{\"outlinewidth\":0,\"ticks\":\"\"}}}],\"carpet\":[{\"aaxis\":{\"endlinecolor\":\"#2a3f5f\",\"gridcolor\":\"white\",\"linecolor\":\"white\",\"minorgridcolor\":\"white\",\"startlinecolor\":\"#2a3f5f\"},\"baxis\":{\"endlinecolor\":\"#2a3f5f\",\"gridcolor\":\"white\",\"linecolor\":\"white\",\"minorgridcolor\":\"white\",\"startlinecolor\":\"#2a3f5f\"},\"type\":\"carpet\"}],\"table\":[{\"cells\":{\"fill\":{\"color\":\"#EBF0F8\"},\"line\":{\"color\":\"white\"}},\"header\":{\"fill\":{\"color\":\"#C8D4E3\"},\"line\":{\"color\":\"white\"}},\"type\":\"table\"}],\"barpolar\":[{\"marker\":{\"line\":{\"color\":\"#E5ECF6\",\"width\":0.5},\"pattern\":{\"fillmode\":\"overlay\",\"size\":10,\"solidity\":0.2}},\"type\":\"barpolar\"}],\"pie\":[{\"automargin\":true,\"type\":\"pie\"}]},\"layout\":{\"autotypenumbers\":\"strict\",\"colorway\":[\"#636efa\",\"#EF553B\",\"#00cc96\",\"#ab63fa\",\"#FFA15A\",\"#19d3f3\",\"#FF6692\",\"#B6E880\",\"#FF97FF\",\"#FECB52\"],\"font\":{\"color\":\"#2a3f5f\"},\"hovermode\":\"closest\",\"hoverlabel\":{\"align\":\"left\"},\"paper_bgcolor\":\"white\",\"plot_bgcolor\":\"#E5ECF6\",\"polar\":{\"bgcolor\":\"#E5ECF6\",\"angularaxis\":{\"gridcolor\":\"white\",\"linecolor\":\"white\",\"ticks\":\"\"},\"radialaxis\":{\"gridcolor\":\"white\",\"linecolor\":\"white\",\"ticks\":\"\"}},\"ternary\":{\"bgcolor\":\"#E5ECF6\",\"aaxis\":{\"gridcolor\":\"white\",\"linecolor\":\"white\",\"ticks\":\"\"},\"baxis\":{\"gridcolor\":\"white\",\"linecolor\":\"white\",\"ticks\":\"\"},\"caxis\":{\"gridcolor\":\"white\",\"linecolor\":\"white\",\"ticks\":\"\"}},\"coloraxis\":{\"colorbar\":{\"outlinewidth\":0,\"ticks\":\"\"}},\"colorscale\":{\"sequential\":[[0.0,\"#0d0887\"],[0.1111111111111111,\"#46039f\"],[0.2222222222222222,\"#7201a8\"],[0.3333333333333333,\"#9c179e\"],[0.4444444444444444,\"#bd3786\"],[0.5555555555555556,\"#d8576b\"],[0.6666666666666666,\"#ed7953\"],[0.7777777777777778,\"#fb9f3a\"],[0.8888888888888888,\"#fdca26\"],[1.0,\"#f0f921\"]],\"sequentialminus\":[[0.0,\"#0d0887\"],[0.1111111111111111,\"#46039f\"],[0.2222222222222222,\"#7201a8\"],[0.3333333333333333,\"#9c179e\"],[0.4444444444444444,\"#bd3786\"],[0.5555555555555556,\"#d8576b\"],[0.6666666666666666,\"#ed7953\"],[0.7777777777777778,\"#fb9f3a\"],[0.8888888888888888,\"#fdca26\"],[1.0,\"#f0f921\"]],\"diverging\":[[0,\"#8e0152\"],[0.1,\"#c51b7d\"],[0.2,\"#de77ae\"],[0.3,\"#f1b6da\"],[0.4,\"#fde0ef\"],[0.5,\"#f7f7f7\"],[0.6,\"#e6f5d0\"],[0.7,\"#b8e186\"],[0.8,\"#7fbc41\"],[0.9,\"#4d9221\"],[1,\"#276419\"]]},\"xaxis\":{\"gridcolor\":\"white\",\"linecolor\":\"white\",\"ticks\":\"\",\"title\":{\"standoff\":15},\"zerolinecolor\":\"white\",\"automargin\":true,\"zerolinewidth\":2},\"yaxis\":{\"gridcolor\":\"white\",\"linecolor\":\"white\",\"ticks\":\"\",\"title\":{\"standoff\":15},\"zerolinecolor\":\"white\",\"automargin\":true,\"zerolinewidth\":2},\"scene\":{\"xaxis\":{\"backgroundcolor\":\"#E5ECF6\",\"gridcolor\":\"white\",\"linecolor\":\"white\",\"showbackground\":true,\"ticks\":\"\",\"zerolinecolor\":\"white\",\"gridwidth\":2},\"yaxis\":{\"backgroundcolor\":\"#E5ECF6\",\"gridcolor\":\"white\",\"linecolor\":\"white\",\"showbackground\":true,\"ticks\":\"\",\"zerolinecolor\":\"white\",\"gridwidth\":2},\"zaxis\":{\"backgroundcolor\":\"#E5ECF6\",\"gridcolor\":\"white\",\"linecolor\":\"white\",\"showbackground\":true,\"ticks\":\"\",\"zerolinecolor\":\"white\",\"gridwidth\":2}},\"shapedefaults\":{\"line\":{\"color\":\"#2a3f5f\"}},\"annotationdefaults\":{\"arrowcolor\":\"#2a3f5f\",\"arrowhead\":0,\"arrowwidth\":1},\"geo\":{\"bgcolor\":\"white\",\"landcolor\":\"#E5ECF6\",\"subunitcolor\":\"white\",\"showland\":true,\"showlakes\":true,\"lakecolor\":\"white\"},\"title\":{\"x\":0.05},\"mapbox\":{\"style\":\"light\"}}},\"xaxis\":{\"anchor\":\"y\",\"domain\":[0.0,1.0],\"title\":{\"text\":\"Position\"}},\"yaxis\":{\"anchor\":\"x\",\"domain\":[0.0,1.0],\"title\":{\"text\":\"Salary\"}},\"legend\":{\"title\":{\"text\":\"Sex\"},\"tracegroupgap\":0},\"margin\":{\"t\":60}},                        {\"responsive\": true}                    ).then(function(){\n",
              "                            \n",
              "var gd = document.getElementById('596ca253-8e60-44ee-b7b4-9f73c1cbf1c3');\n",
              "var x = new MutationObserver(function (mutations, observer) {{\n",
              "        var display = window.getComputedStyle(gd).display;\n",
              "        if (!display || display === 'none') {{\n",
              "            console.log([gd, 'removed!']);\n",
              "            Plotly.purge(gd);\n",
              "            observer.disconnect();\n",
              "        }}\n",
              "}});\n",
              "\n",
              "// Listen for the removal of the full notebook cells\n",
              "var notebookContainer = gd.closest('#notebook-container');\n",
              "if (notebookContainer) {{\n",
              "    x.observe(notebookContainer, {childList: true});\n",
              "}}\n",
              "\n",
              "// Listen for the clearing of the current output cell\n",
              "var outputEl = gd.closest('.output');\n",
              "if (outputEl) {{\n",
              "    x.observe(outputEl, {childList: true});\n",
              "}}\n",
              "\n",
              "                        })                };                            </script>        </div>\n",
              "</body>\n",
              "</html>"
            ]
          },
          "metadata": {}
        }
      ]
    },
    {
      "cell_type": "code",
      "source": [
        "#This shaw that more number of project having with IT departments\n",
        "px.box(hr_emp, x = hr_emp['Department'], y = hr_emp['SpecialProjectsCount'])"
      ],
      "metadata": {
        "colab": {
          "base_uri": "https://localhost:8080/",
          "height": 542
        },
        "id": "nanNVCKzkxp4",
        "outputId": "67e53fb1-9b22-432a-cfd4-4d561718b450"
      },
      "execution_count": 37,
      "outputs": [
        {
          "output_type": "display_data",
          "data": {
            "text/html": [
              "<html>\n",
              "<head><meta charset=\"utf-8\" /></head>\n",
              "<body>\n",
              "    <div>            <script src=\"https://cdnjs.cloudflare.com/ajax/libs/mathjax/2.7.5/MathJax.js?config=TeX-AMS-MML_SVG\"></script><script type=\"text/javascript\">if (window.MathJax && window.MathJax.Hub && window.MathJax.Hub.Config) {window.MathJax.Hub.Config({SVG: {font: \"STIX-Web\"}});}</script>                <script type=\"text/javascript\">window.PlotlyConfig = {MathJaxConfig: 'local'};</script>\n",
              "        <script src=\"https://cdn.plot.ly/plotly-2.18.2.min.js\"></script>                <div id=\"b2127c3f-34be-4d9d-8ca6-ba72e486e6c2\" class=\"plotly-graph-div\" style=\"height:525px; width:100%;\"></div>            <script type=\"text/javascript\">                                    window.PLOTLYENV=window.PLOTLYENV || {};                                    if (document.getElementById(\"b2127c3f-34be-4d9d-8ca6-ba72e486e6c2\")) {                    Plotly.newPlot(                        \"b2127c3f-34be-4d9d-8ca6-ba72e486e6c2\",                        [{\"alignmentgroup\":\"True\",\"hovertemplate\":\"Department=%{x}<br>SpecialProjectsCount=%{y}<extra></extra>\",\"legendgroup\":\"\",\"marker\":{\"color\":\"#636efa\"},\"name\":\"\",\"notched\":false,\"offsetgroup\":\"\",\"orientation\":\"v\",\"showlegend\":false,\"x\":[\"Production       \",\"IT/IS\",\"Production       \",\"Production       \",\"Production       \",\"Production       \",\"Software Engineering\",\"Production       \",\"Production       \",\"IT/IS\",\"Production       \",\"Production       \",\"IT/IS\",\"Production       \",\"Production       \",\"Production       \",\"Production       \",\"Production       \",\"IT/IS\",\"Production       \",\"Production       \",\"Production       \",\"Production       \",\"Production       \",\"Production       \",\"IT/IS\",\"Admin Offices\",\"Production       \",\"Production       \",\"Admin Offices\",\"Production       \",\"Production       \",\"Sales\",\"Production       \",\"Production       \",\"Software Engineering\",\"Production       \",\"Software Engineering\",\"Production       \",\"IT/IS\",\"Sales\",\"Production       \",\"IT/IS\",\"Production       \",\"Production       \",\"Sales\",\"Production       \",\"Production       \",\"IT/IS\",\"Production       \",\"Production       \",\"Production       \",\"Production       \",\"Production       \",\"Production       \",\"Production       \",\"Production       \",\"IT/IS\",\"Production       \",\"IT/IS\",\"Sales\",\"IT/IS\",\"Production       \",\"Production       \",\"Production       \",\"Production       \",\"Software Engineering\",\"Sales\",\"Production       \",\"Production       \",\"IT/IS\",\"Production       \",\"Sales\",\"Production       \",\"Production       \",\"IT/IS\",\"IT/IS\",\"Sales\",\"Production       \",\"Production       \",\"Production       \",\"Production       \",\"Production       \",\"Production       \",\"Production       \",\"Production       \",\"Software Engineering\",\"Production       \",\"Production       \",\"Production       \",\"Production       \",\"IT/IS\",\"Production       \",\"Production       \",\"Production       \",\"Sales\",\"IT/IS\",\"Admin Offices\",\"Sales\",\"IT/IS\",\"Production       \",\"Production       \",\"Production       \",\"Production       \",\"Sales\",\"Production       \",\"Production       \",\"Sales\",\"IT/IS\",\"IT/IS\",\"Production       \",\"Production       \",\"Production       \",\"IT/IS\",\"Production       \",\"Production       \",\"Production       \",\"Production       \",\"Production       \",\"Production       \",\"IT/IS\",\"Sales\",\"Production       \",\"Production       \",\"Production       \",\"Production       \",\"Production       \",\"Production       \",\"Sales\",\"Production       \",\"IT/IS\",\"Sales\",\"Admin Offices\",\"Production       \",\"Production       \",\"Production       \",\"Production       \",\"Production       \",\"Production       \",\"Production       \",\"Production       \",\"Production       \",\"Production       \",\"Production       \",\"IT/IS\",\"Production       \",\"Production       \",\"Sales\",\"Production       \",\"Sales\",\"Executive Office\",\"Production       \",\"Production       \",\"Production       \",\"Production       \",\"Sales\",\"IT/IS\",\"Production       \",\"Production       \",\"Production       \",\"Admin Offices\",\"Production       \",\"IT/IS\",\"Production       \",\"Admin Offices\",\"Production       \",\"Sales\",\"Production       \",\"Production       \",\"Production       \",\"IT/IS\",\"Production       \",\"Production       \",\"Production       \",\"Production       \",\"Production       \",\"Production       \",\"Production       \",\"Production       \",\"Production       \",\"Software Engineering\",\"Production       \",\"Production       \",\"Production       \",\"Sales\",\"Production       \",\"Production       \",\"Production       \",\"Production       \",\"Production       \",\"IT/IS\",\"Production       \",\"Production       \",\"IT/IS\",\"Production       \",\"Production       \",\"Production       \",\"IT/IS\",\"Production       \",\"Production       \",\"Production       \",\"Production       \",\"Sales\",\"Production       \",\"Production       \",\"Production       \",\"Production       \",\"Sales\",\"Production       \",\"Production       \",\"Sales\",\"Production       \",\"Software Engineering\",\"IT/IS\",\"Production       \",\"Production       \",\"Production       \",\"Production       \",\"Production       \",\"Production       \",\"IT/IS\",\"Production       \",\"Production       \",\"Sales\",\"Production       \",\"Production       \",\"Production       \",\"Software Engineering\",\"IT/IS\",\"Production       \",\"Sales\",\"Production       \",\"Production       \",\"Production       \",\"Production       \",\"Production       \",\"Production       \",\"Production       \",\"IT/IS\",\"IT/IS\",\"IT/IS\",\"Production       \",\"Production       \",\"IT/IS\",\"IT/IS\",\"Software Engineering\",\"Production       \",\"Production       \",\"Production       \",\"IT/IS\",\"Production       \",\"Production       \",\"IT/IS\",\"Production       \",\"IT/IS\",\"Admin Offices\",\"Production       \",\"Production       \",\"Sales\",\"Admin Offices\",\"Production       \",\"IT/IS\",\"IT/IS\",\"Production       \",\"Production       \",\"Production       \",\"Production       \",\"Sales\",\"Admin Offices\",\"Production       \",\"Sales\",\"Production       \",\"Production       \",\"Production       \",\"Software Engineering\",\"IT/IS\",\"Production       \",\"Production       \",\"Sales\",\"Production       \",\"Production       \",\"Production       \",\"Sales\",\"Production       \",\"IT/IS\",\"Software Engineering\",\"Production       \",\"IT/IS\",\"Sales\",\"Production       \",\"Production       \",\"Sales\",\"IT/IS\",\"Production       \",\"Production       \",\"Production       \",\"Production       \",\"Production       \",\"IT/IS\",\"IT/IS\",\"Production       \",\"Production       \",\"Production       \",\"Production       \",\"Production       \",\"Production       \",\"Production       \",\"Production       \",\"IT/IS\",\"IT/IS\",\"Production       \"],\"x0\":\" \",\"xaxis\":\"x\",\"y\":[0,6,0,0,0,0,4,0,0,6,0,0,5,0,0,0,0,0,5,0,0,0,0,0,0,7,3,0,0,6,0,0,0,0,0,5,0,6,0,6,0,0,7,0,0,0,0,0,6,0,0,0,0,0,0,0,0,6,0,4,0,8,0,0,3,0,5,0,0,0,7,0,0,0,0,6,5,0,0,0,0,0,0,0,0,0,4,0,0,0,0,6,0,0,0,0,5,2,0,5,0,0,0,0,0,0,0,0,4,7,0,0,0,5,0,0,0,0,0,0,5,0,0,0,0,0,0,0,0,0,6,0,4,0,0,0,0,0,0,0,0,0,0,0,5,0,0,0,0,0,0,0,0,0,0,0,6,0,0,0,4,0,7,0,0,0,0,0,0,0,5,0,0,0,0,0,0,0,0,0,4,0,0,0,0,0,0,0,0,0,6,0,0,6,0,0,0,6,0,0,0,0,0,0,0,0,0,0,0,0,0,0,3,5,0,0,0,0,0,0,7,0,0,0,0,0,0,0,6,0,0,0,0,0,0,0,0,0,6,7,5,0,0,7,6,6,0,0,0,5,0,0,6,0,7,5,0,0,0,4,0,5,5,1,0,0,0,0,5,0,0,0,0,0,5,6,0,0,0,0,0,0,0,0,5,4,0,7,0,0,0,0,7,0,0,0,0,0,7,8,0,0,0,0,0,0,0,0,6,5,0],\"y0\":\" \",\"yaxis\":\"y\",\"type\":\"box\"}],                        {\"template\":{\"data\":{\"histogram2dcontour\":[{\"type\":\"histogram2dcontour\",\"colorbar\":{\"outlinewidth\":0,\"ticks\":\"\"},\"colorscale\":[[0.0,\"#0d0887\"],[0.1111111111111111,\"#46039f\"],[0.2222222222222222,\"#7201a8\"],[0.3333333333333333,\"#9c179e\"],[0.4444444444444444,\"#bd3786\"],[0.5555555555555556,\"#d8576b\"],[0.6666666666666666,\"#ed7953\"],[0.7777777777777778,\"#fb9f3a\"],[0.8888888888888888,\"#fdca26\"],[1.0,\"#f0f921\"]]}],\"choropleth\":[{\"type\":\"choropleth\",\"colorbar\":{\"outlinewidth\":0,\"ticks\":\"\"}}],\"histogram2d\":[{\"type\":\"histogram2d\",\"colorbar\":{\"outlinewidth\":0,\"ticks\":\"\"},\"colorscale\":[[0.0,\"#0d0887\"],[0.1111111111111111,\"#46039f\"],[0.2222222222222222,\"#7201a8\"],[0.3333333333333333,\"#9c179e\"],[0.4444444444444444,\"#bd3786\"],[0.5555555555555556,\"#d8576b\"],[0.6666666666666666,\"#ed7953\"],[0.7777777777777778,\"#fb9f3a\"],[0.8888888888888888,\"#fdca26\"],[1.0,\"#f0f921\"]]}],\"heatmap\":[{\"type\":\"heatmap\",\"colorbar\":{\"outlinewidth\":0,\"ticks\":\"\"},\"colorscale\":[[0.0,\"#0d0887\"],[0.1111111111111111,\"#46039f\"],[0.2222222222222222,\"#7201a8\"],[0.3333333333333333,\"#9c179e\"],[0.4444444444444444,\"#bd3786\"],[0.5555555555555556,\"#d8576b\"],[0.6666666666666666,\"#ed7953\"],[0.7777777777777778,\"#fb9f3a\"],[0.8888888888888888,\"#fdca26\"],[1.0,\"#f0f921\"]]}],\"heatmapgl\":[{\"type\":\"heatmapgl\",\"colorbar\":{\"outlinewidth\":0,\"ticks\":\"\"},\"colorscale\":[[0.0,\"#0d0887\"],[0.1111111111111111,\"#46039f\"],[0.2222222222222222,\"#7201a8\"],[0.3333333333333333,\"#9c179e\"],[0.4444444444444444,\"#bd3786\"],[0.5555555555555556,\"#d8576b\"],[0.6666666666666666,\"#ed7953\"],[0.7777777777777778,\"#fb9f3a\"],[0.8888888888888888,\"#fdca26\"],[1.0,\"#f0f921\"]]}],\"contourcarpet\":[{\"type\":\"contourcarpet\",\"colorbar\":{\"outlinewidth\":0,\"ticks\":\"\"}}],\"contour\":[{\"type\":\"contour\",\"colorbar\":{\"outlinewidth\":0,\"ticks\":\"\"},\"colorscale\":[[0.0,\"#0d0887\"],[0.1111111111111111,\"#46039f\"],[0.2222222222222222,\"#7201a8\"],[0.3333333333333333,\"#9c179e\"],[0.4444444444444444,\"#bd3786\"],[0.5555555555555556,\"#d8576b\"],[0.6666666666666666,\"#ed7953\"],[0.7777777777777778,\"#fb9f3a\"],[0.8888888888888888,\"#fdca26\"],[1.0,\"#f0f921\"]]}],\"surface\":[{\"type\":\"surface\",\"colorbar\":{\"outlinewidth\":0,\"ticks\":\"\"},\"colorscale\":[[0.0,\"#0d0887\"],[0.1111111111111111,\"#46039f\"],[0.2222222222222222,\"#7201a8\"],[0.3333333333333333,\"#9c179e\"],[0.4444444444444444,\"#bd3786\"],[0.5555555555555556,\"#d8576b\"],[0.6666666666666666,\"#ed7953\"],[0.7777777777777778,\"#fb9f3a\"],[0.8888888888888888,\"#fdca26\"],[1.0,\"#f0f921\"]]}],\"mesh3d\":[{\"type\":\"mesh3d\",\"colorbar\":{\"outlinewidth\":0,\"ticks\":\"\"}}],\"scatter\":[{\"fillpattern\":{\"fillmode\":\"overlay\",\"size\":10,\"solidity\":0.2},\"type\":\"scatter\"}],\"parcoords\":[{\"type\":\"parcoords\",\"line\":{\"colorbar\":{\"outlinewidth\":0,\"ticks\":\"\"}}}],\"scatterpolargl\":[{\"type\":\"scatterpolargl\",\"marker\":{\"colorbar\":{\"outlinewidth\":0,\"ticks\":\"\"}}}],\"bar\":[{\"error_x\":{\"color\":\"#2a3f5f\"},\"error_y\":{\"color\":\"#2a3f5f\"},\"marker\":{\"line\":{\"color\":\"#E5ECF6\",\"width\":0.5},\"pattern\":{\"fillmode\":\"overlay\",\"size\":10,\"solidity\":0.2}},\"type\":\"bar\"}],\"scattergeo\":[{\"type\":\"scattergeo\",\"marker\":{\"colorbar\":{\"outlinewidth\":0,\"ticks\":\"\"}}}],\"scatterpolar\":[{\"type\":\"scatterpolar\",\"marker\":{\"colorbar\":{\"outlinewidth\":0,\"ticks\":\"\"}}}],\"histogram\":[{\"marker\":{\"pattern\":{\"fillmode\":\"overlay\",\"size\":10,\"solidity\":0.2}},\"type\":\"histogram\"}],\"scattergl\":[{\"type\":\"scattergl\",\"marker\":{\"colorbar\":{\"outlinewidth\":0,\"ticks\":\"\"}}}],\"scatter3d\":[{\"type\":\"scatter3d\",\"line\":{\"colorbar\":{\"outlinewidth\":0,\"ticks\":\"\"}},\"marker\":{\"colorbar\":{\"outlinewidth\":0,\"ticks\":\"\"}}}],\"scattermapbox\":[{\"type\":\"scattermapbox\",\"marker\":{\"colorbar\":{\"outlinewidth\":0,\"ticks\":\"\"}}}],\"scatterternary\":[{\"type\":\"scatterternary\",\"marker\":{\"colorbar\":{\"outlinewidth\":0,\"ticks\":\"\"}}}],\"scattercarpet\":[{\"type\":\"scattercarpet\",\"marker\":{\"colorbar\":{\"outlinewidth\":0,\"ticks\":\"\"}}}],\"carpet\":[{\"aaxis\":{\"endlinecolor\":\"#2a3f5f\",\"gridcolor\":\"white\",\"linecolor\":\"white\",\"minorgridcolor\":\"white\",\"startlinecolor\":\"#2a3f5f\"},\"baxis\":{\"endlinecolor\":\"#2a3f5f\",\"gridcolor\":\"white\",\"linecolor\":\"white\",\"minorgridcolor\":\"white\",\"startlinecolor\":\"#2a3f5f\"},\"type\":\"carpet\"}],\"table\":[{\"cells\":{\"fill\":{\"color\":\"#EBF0F8\"},\"line\":{\"color\":\"white\"}},\"header\":{\"fill\":{\"color\":\"#C8D4E3\"},\"line\":{\"color\":\"white\"}},\"type\":\"table\"}],\"barpolar\":[{\"marker\":{\"line\":{\"color\":\"#E5ECF6\",\"width\":0.5},\"pattern\":{\"fillmode\":\"overlay\",\"size\":10,\"solidity\":0.2}},\"type\":\"barpolar\"}],\"pie\":[{\"automargin\":true,\"type\":\"pie\"}]},\"layout\":{\"autotypenumbers\":\"strict\",\"colorway\":[\"#636efa\",\"#EF553B\",\"#00cc96\",\"#ab63fa\",\"#FFA15A\",\"#19d3f3\",\"#FF6692\",\"#B6E880\",\"#FF97FF\",\"#FECB52\"],\"font\":{\"color\":\"#2a3f5f\"},\"hovermode\":\"closest\",\"hoverlabel\":{\"align\":\"left\"},\"paper_bgcolor\":\"white\",\"plot_bgcolor\":\"#E5ECF6\",\"polar\":{\"bgcolor\":\"#E5ECF6\",\"angularaxis\":{\"gridcolor\":\"white\",\"linecolor\":\"white\",\"ticks\":\"\"},\"radialaxis\":{\"gridcolor\":\"white\",\"linecolor\":\"white\",\"ticks\":\"\"}},\"ternary\":{\"bgcolor\":\"#E5ECF6\",\"aaxis\":{\"gridcolor\":\"white\",\"linecolor\":\"white\",\"ticks\":\"\"},\"baxis\":{\"gridcolor\":\"white\",\"linecolor\":\"white\",\"ticks\":\"\"},\"caxis\":{\"gridcolor\":\"white\",\"linecolor\":\"white\",\"ticks\":\"\"}},\"coloraxis\":{\"colorbar\":{\"outlinewidth\":0,\"ticks\":\"\"}},\"colorscale\":{\"sequential\":[[0.0,\"#0d0887\"],[0.1111111111111111,\"#46039f\"],[0.2222222222222222,\"#7201a8\"],[0.3333333333333333,\"#9c179e\"],[0.4444444444444444,\"#bd3786\"],[0.5555555555555556,\"#d8576b\"],[0.6666666666666666,\"#ed7953\"],[0.7777777777777778,\"#fb9f3a\"],[0.8888888888888888,\"#fdca26\"],[1.0,\"#f0f921\"]],\"sequentialminus\":[[0.0,\"#0d0887\"],[0.1111111111111111,\"#46039f\"],[0.2222222222222222,\"#7201a8\"],[0.3333333333333333,\"#9c179e\"],[0.4444444444444444,\"#bd3786\"],[0.5555555555555556,\"#d8576b\"],[0.6666666666666666,\"#ed7953\"],[0.7777777777777778,\"#fb9f3a\"],[0.8888888888888888,\"#fdca26\"],[1.0,\"#f0f921\"]],\"diverging\":[[0,\"#8e0152\"],[0.1,\"#c51b7d\"],[0.2,\"#de77ae\"],[0.3,\"#f1b6da\"],[0.4,\"#fde0ef\"],[0.5,\"#f7f7f7\"],[0.6,\"#e6f5d0\"],[0.7,\"#b8e186\"],[0.8,\"#7fbc41\"],[0.9,\"#4d9221\"],[1,\"#276419\"]]},\"xaxis\":{\"gridcolor\":\"white\",\"linecolor\":\"white\",\"ticks\":\"\",\"title\":{\"standoff\":15},\"zerolinecolor\":\"white\",\"automargin\":true,\"zerolinewidth\":2},\"yaxis\":{\"gridcolor\":\"white\",\"linecolor\":\"white\",\"ticks\":\"\",\"title\":{\"standoff\":15},\"zerolinecolor\":\"white\",\"automargin\":true,\"zerolinewidth\":2},\"scene\":{\"xaxis\":{\"backgroundcolor\":\"#E5ECF6\",\"gridcolor\":\"white\",\"linecolor\":\"white\",\"showbackground\":true,\"ticks\":\"\",\"zerolinecolor\":\"white\",\"gridwidth\":2},\"yaxis\":{\"backgroundcolor\":\"#E5ECF6\",\"gridcolor\":\"white\",\"linecolor\":\"white\",\"showbackground\":true,\"ticks\":\"\",\"zerolinecolor\":\"white\",\"gridwidth\":2},\"zaxis\":{\"backgroundcolor\":\"#E5ECF6\",\"gridcolor\":\"white\",\"linecolor\":\"white\",\"showbackground\":true,\"ticks\":\"\",\"zerolinecolor\":\"white\",\"gridwidth\":2}},\"shapedefaults\":{\"line\":{\"color\":\"#2a3f5f\"}},\"annotationdefaults\":{\"arrowcolor\":\"#2a3f5f\",\"arrowhead\":0,\"arrowwidth\":1},\"geo\":{\"bgcolor\":\"white\",\"landcolor\":\"#E5ECF6\",\"subunitcolor\":\"white\",\"showland\":true,\"showlakes\":true,\"lakecolor\":\"white\"},\"title\":{\"x\":0.05},\"mapbox\":{\"style\":\"light\"}}},\"xaxis\":{\"anchor\":\"y\",\"domain\":[0.0,1.0],\"title\":{\"text\":\"Department\"}},\"yaxis\":{\"anchor\":\"x\",\"domain\":[0.0,1.0],\"title\":{\"text\":\"SpecialProjectsCount\"}},\"legend\":{\"tracegroupgap\":0},\"margin\":{\"t\":60},\"boxmode\":\"group\"},                        {\"responsive\": true}                    ).then(function(){\n",
              "                            \n",
              "var gd = document.getElementById('b2127c3f-34be-4d9d-8ca6-ba72e486e6c2');\n",
              "var x = new MutationObserver(function (mutations, observer) {{\n",
              "        var display = window.getComputedStyle(gd).display;\n",
              "        if (!display || display === 'none') {{\n",
              "            console.log([gd, 'removed!']);\n",
              "            Plotly.purge(gd);\n",
              "            observer.disconnect();\n",
              "        }}\n",
              "}});\n",
              "\n",
              "// Listen for the removal of the full notebook cells\n",
              "var notebookContainer = gd.closest('#notebook-container');\n",
              "if (notebookContainer) {{\n",
              "    x.observe(notebookContainer, {childList: true});\n",
              "}}\n",
              "\n",
              "// Listen for the clearing of the current output cell\n",
              "var outputEl = gd.closest('.output');\n",
              "if (outputEl) {{\n",
              "    x.observe(outputEl, {childList: true});\n",
              "}}\n",
              "\n",
              "                        })                };                            </script>        </div>\n",
              "</body>\n",
              "</html>"
            ]
          },
          "metadata": {}
        }
      ]
    },
    {
      "cell_type": "code",
      "source": [],
      "metadata": {
        "id": "AMBAwU_HlVxW"
      },
      "execution_count": null,
      "outputs": []
    }
  ]
}